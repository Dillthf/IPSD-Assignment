{
  "nbformat": 4,
  "nbformat_minor": 0,
  "metadata": {
    "colab": {
      "provenance": [],
      "authorship_tag": "ABX9TyNTcaAoRK/w2p942oDqKW0C",
      "include_colab_link": true
    },
    "kernelspec": {
      "name": "python3",
      "display_name": "Python 3"
    },
    "language_info": {
      "name": "python"
    }
  },
  "cells": [
    {
      "cell_type": "markdown",
      "metadata": {
        "id": "view-in-github",
        "colab_type": "text"
      },
      "source": [
        "<a href=\"https://colab.research.google.com/github/Dillthf/IPSD-Assignment/blob/main/Unguided.ipynb\" target=\"_parent\"><img src=\"https://colab.research.google.com/assets/colab-badge.svg\" alt=\"Open In Colab\"/></a>"
      ]
    },
    {
      "cell_type": "markdown",
      "source": [
        "1. Buatlah program yang dapat menghasilkan pola berbentuk angka seperti di bawah ini, dengan syarat angka yang ditampilkan adalah hasil dari penjumlahan bilangan prima sebelumnya:\n",
        "```\n",
        "1\n",
        "2 3\n",
        "5 7 11\n",
        "13 17 19 23\n",
        "...\n",
        "```\n",
        "Jumlah angka pada setiap baris bertambah 1, dan bilangan yang ditampilkan adalah bilangan prima.\n",
        "\n"
      ],
      "metadata": {
        "id": "Lxsb3Y3B5OUx"
      }
    },
    {
      "cell_type": "code",
      "execution_count": 5,
      "metadata": {
        "colab": {
          "base_uri": "https://localhost:8080/"
        },
        "id": "HUrDRwsO5ByF",
        "outputId": "8b3458a1-8061-4e24-a27d-3fbff80fd670"
      },
      "outputs": [
        {
          "output_type": "stream",
          "name": "stdout",
          "text": [
            "1\n",
            "2 3 \n",
            "5 7 11 \n",
            "13 17 19 23 \n",
            "29 31 37 41 43 \n",
            "47 53 59 61 67 71 \n"
          ]
        }
      ],
      "source": [
        "def bil_prima(n):\n",
        "    \"\"\"Fungsi untuk memeriksa apakah sebuah bilangan adalah bilangan prima.\"\"\"\n",
        "    if n < 2:\n",
        "        return False\n",
        "    for i in range(2, int(n**0.5) + 1):\n",
        "        if n % i == 0:\n",
        "            return False\n",
        "    return True\n",
        "\n",
        "def pola_bil_prima(rows):\n",
        "    num = 2\n",
        "\n",
        "\n",
        "    for i in range(1, rows + 1):\n",
        "      if i == 1:\n",
        "        print(1)\n",
        "\n",
        "      else:\n",
        "        for _ in range(i):\n",
        "            while not bil_prima(num):\n",
        "                num += 1\n",
        "            print(num, end=\" \")\n",
        "            num += 1\n",
        "        print()\n",
        "\n",
        "\n",
        "pola_bil_prima(6)\n"
      ]
    },
    {
      "cell_type": "markdown",
      "source": [
        "2. Buatlah sebuah fungsi yang menerima dua input berupa list angka. Fungsi ini harus mengembalikan sebuah list baru yang berisi elemen dari dua list input yang memiliki indeks ganjil. List baru tersebut juga harus diurutkan secara menurun berdasarkan nilai elemen."
      ],
      "metadata": {
        "id": "l9Ro6lPM5NL2"
      }
    },
    {
      "cell_type": "code",
      "source": [
        "def urutan_bilangan(list1, list2):\n",
        "    list_1 = [list1[i] for i in range(1, len(list1), 2)]\n",
        "    list_2 = [list2[i] for i in range(1, len(list2), 2)]\n",
        "\n",
        "    gabungan = list_1 + list_2\n",
        "\n",
        "    gabungan.sort(reverse=True)\n",
        "\n",
        "    return gabungan\n",
        "\n",
        "list1 = [10, 21, 30, 41, 50, 61]\n",
        "list2 = [15, 25, 35, 45, 55, 65]\n",
        "urutan = urutan_bilangan(list1, list2)\n",
        "print(urutan)"
      ],
      "metadata": {
        "colab": {
          "base_uri": "https://localhost:8080/"
        },
        "id": "zYzzpv4q5iGI",
        "outputId": "078070e1-b742-4977-e423-42d973bb687a"
      },
      "execution_count": 13,
      "outputs": [
        {
          "output_type": "stream",
          "name": "stdout",
          "text": [
            "[65, 61, 45, 41, 25, 21]\n"
          ]
        }
      ]
    },
    {
      "cell_type": "markdown",
      "source": [
        "3. Buat sebuah program untuk mensimulasikan transaksi ATM. Program harus:\n",
        " 1. Meminta pengguna memasukkan PIN (dibatasi 3 kali percobaan).\n",
        " 2. Setelah PIN benar, meminta jumlah penarikan.\n",
        " 3. Jika saldo kurang dari jumlah yang ditarik, munculkan pesan kesalahan.\n",
        " 4. Jika penarikan berhasil, tampilkan saldo akhir.\n"
      ],
      "metadata": {
        "id": "GfLNS1RG5ioy"
      }
    },
    {
      "cell_type": "code",
      "source": [
        "def simulasi():\n",
        "    saldo = 50000\n",
        "    pin_terdaftar = \"1234\"\n",
        "    kesempatan = 3\n",
        "\n",
        "    # Pengguna memasukkan PIN yang benar dengan 3 kali kesempatan\n",
        "    while kesempatan > 0:\n",
        "        pin_input = input(\"Masukkan PIN Anda: \")\n",
        "\n",
        "        if pin_input == pin_terdaftar:\n",
        "            print(\"PIN benar! Selamat datang!\")\n",
        "\n",
        "            # Meminta jumlah penarikan\n",
        "            try:\n",
        "                jumlah_tarik = int(input(\"Masukkan jumlah penarikan: \"))\n",
        "            except ValueError:\n",
        "                print(\"Masukkan jumlah yang valid!\")\n",
        "                return\n",
        "\n",
        "            # Cek apakah saldo cukup\n",
        "            if jumlah_tarik > saldo:\n",
        "                print(\"Saldo Anda tidak cukup untuk melakukan penarikan sebesar\", jumlah_tarik, \":(\" )\n",
        "            else:\n",
        "                saldo -= jumlah_tarik\n",
        "                print(f\"Penarikan berhasil >_<! Saldo akhir Anda adalah: Rp{saldo}\")\n",
        "\n",
        "            return  # Keluar setelah transaksi selesai\n",
        "\n",
        "        else:\n",
        "            kesempatan -= 1\n",
        "            print(f\"PIN salah! Kesempatan tersisa: {kesempatan}\")\n",
        "\n",
        "    print(\"Anda telah 3 kali salah memasukkan PIN. Akun Anda terblokir!\")\n",
        "\n",
        "# Menjalankan program simulasi ATM\n",
        "simulasi()\n"
      ],
      "metadata": {
        "colab": {
          "base_uri": "https://localhost:8080/"
        },
        "id": "Kb5N93sA5prp",
        "outputId": "7923839c-7e4b-4197-be68-8f6896ccfae0"
      },
      "execution_count": 17,
      "outputs": [
        {
          "output_type": "stream",
          "name": "stdout",
          "text": [
            "Masukkan PIN Anda: 1234\n",
            "PIN benar! Selamat datang!\n",
            "Masukkan jumlah penarikan: 10000000\n",
            "Saldo Anda tidak cukup untuk melakukan penarikan sebesar 10000000 :(\n"
          ]
        }
      ]
    },
    {
      "cell_type": "markdown",
      "source": [
        "4. Diberikan file CSV berisi data nilai ujian mahasiswa. Tugas Anda adalah menulis sebuah program yang:\n",
        " 1. Membaca file CSV dan menyimpan datanya ke dalam dictionary.\n",
        " 2. Menghitung rata-rata nilai tiap mahasiswa.\n",
        " 3. Menampilkan mahasiswa dengan nilai tertinggi dan terendah.\n"
      ],
      "metadata": {
        "id": "pl6LGn955qJd"
      }
    },
    {
      "cell_type": "code",
      "source": [
        "import csv\n",
        " #Membaca dan menyimpan isi file nilai.csv\n",
        "def csv_to_dict(file_name):\n",
        "    data_dict = {}\n",
        "\n",
        "    with open(file_name, mode='r') as file:\n",
        "        csv_reader = csv.reader(file)\n",
        "        header = next(csv_reader)\n",
        "\n",
        "        nilai_list = [int(row[0]) for row in csv_reader]\n",
        "\n",
        "    data_dict['nilai'] = nilai_list\n",
        "\n",
        "    return data_dict\n",
        "\n",
        "# Menghitung Rata-rata, nilai tertinggi, dan nilai terendah\n",
        "def hitung_rata_tertinggi_terendah(data_dict):\n",
        "    nilai_list = data_dict['nilai']\n",
        "\n",
        "    # Hitung total nilai, jumlah elemen, rata-rata, nilai tertinggi, dan terendah\n",
        "    if len(nilai_list) > 0:\n",
        "        total_nilai = sum(nilai_list)\n",
        "        jumlah_nilai = len(nilai_list)\n",
        "        rata_rata = total_nilai / jumlah_nilai\n",
        "        nilai_tertinggi = max(nilai_list)\n",
        "        nilai_terendah = min(nilai_list)\n",
        "    else:\n",
        "        rata_rata = 0\n",
        "        nilai_tertinggi = None\n",
        "        nilai_terendah = None\n",
        "\n",
        "    return rata_rata, nilai_tertinggi, nilai_terendah\n",
        "\n",
        "\n",
        "file_name = 'nilai.csv'\n",
        "\n",
        "data = csv_to_dict(file_name)\n",
        "\n",
        "rata_rata, nilai_tertinggi, nilai_terendah = hitung_rata_tertinggi_terendah(data)\n",
        "\n",
        "# Menampilkan hasil\n",
        "print(f\"Rata-rata nilai: {rata_rata:.2f}\")\n",
        "print(f\"Nilai tertinggi: {nilai_tertinggi}\")\n",
        "print(f\"Nilai terendah: {nilai_terendah}\")\n"
      ],
      "metadata": {
        "colab": {
          "base_uri": "https://localhost:8080/"
        },
        "id": "UU45gJHuIfQF",
        "outputId": "3dad6cb3-0c58-404e-e554-16873543a5c5"
      },
      "execution_count": 2,
      "outputs": [
        {
          "output_type": "stream",
          "name": "stdout",
          "text": [
            "Rata-rata nilai: 73.02\n",
            "Nilai tertinggi: 100\n",
            "Nilai terendah: 50\n"
          ]
        }
      ]
    },
    {
      "cell_type": "markdown",
      "source": [
        "5. Buatlah permainan sederhana menggunakan Python, di mana komputer akan memilih sebuah angka secara acak antara 1 hingga 100, dan pengguna harus menebak angka tersebut. Setiap tebakan yang salah akan memberikan petunjuk apakah angka yang ditebak lebih besar atau lebih kecil dari angka sebenarnya. Batasi jumlah percobaan menjadi 5 kali. Setelah permainan selesai, tampilkan apakah pemain menang atau kalah."
      ],
      "metadata": {
        "id": "S3-rhJSu5vcF"
      }
    },
    {
      "cell_type": "code",
      "source": [
        "import random\n",
        "\n",
        "def yuh_tebak():\n",
        "    angka_rahasia = random.randint(1, 100)\n",
        "    print(\"Selamat datang di permainan tebak angka!\")\n",
        "    print(\"Saya telah memilih sebuah angka antara 1 dan 100.\")\n",
        "    print(\"Coba tebak angka tersebut! Anda memiliki 5 percobaan.\")\n",
        "\n",
        "    # Limit Percobaan\n",
        "    percobaan = 5\n",
        "\n",
        "    for i in range(percobaan):\n",
        "        # Meminta pengguna untuk memasukkan tebakan\n",
        "        tebakan = int(input(f\"Tebakan ke-{i+1}: \"))\n",
        "\n",
        "        # Memeriksa tebakan\n",
        "        if tebakan < angka_rahasia:\n",
        "            print(\"Waduh, tebakan Anda terlalu kecil.\")\n",
        "        elif tebakan > angka_rahasia:\n",
        "            print(\"Yaaah, tebakan Anda terlalu besar.\")\n",
        "        else:\n",
        "            print(f\"YEEEAAAY! Anda telah menebak angka {angka_rahasia} dengan benar!\")\n",
        "            break  # Keluar dari loop jika tebakan benar\n",
        "\n",
        "    else:\n",
        "        # Jika semua percobaan habis\n",
        "        print(f\"Kesempatan dah abis. Angka yang benar adalah {angka_rahasia}.\")\n",
        "\n",
        "# Memulai permainan\n",
        "yuh_tebak()\n"
      ],
      "metadata": {
        "colab": {
          "base_uri": "https://localhost:8080/"
        },
        "id": "jVkcNlcJ5zTf",
        "outputId": "7672edf5-880c-45e5-e0b8-e981a52cd66f"
      },
      "execution_count": 4,
      "outputs": [
        {
          "output_type": "stream",
          "name": "stdout",
          "text": [
            "Selamat datang di permainan tebak angka!\n",
            "Saya telah memilih sebuah angka antara 1 dan 100.\n",
            "Coba tebak angka tersebut! Anda memiliki 5 percobaan.\n",
            "Tebakan ke-1: 2\n",
            "Waduh, tebakan Anda terlalu kecil.\n",
            "Tebakan ke-2: 34\n",
            "Waduh, tebakan Anda terlalu kecil.\n",
            "Tebakan ke-3: 45\n",
            "Waduh, tebakan Anda terlalu kecil.\n",
            "Tebakan ke-4: 6\n",
            "Waduh, tebakan Anda terlalu kecil.\n",
            "Tebakan ke-5: 60\n",
            "Yaaah, tebakan Anda terlalu besar.\n",
            "Kesempatan dah abis. Angka yang benar adalah 59.\n"
          ]
        }
      ]
    },
    {
      "cell_type": "markdown",
      "source": [
        "6. Buat fungsi rekursif yang menerima input bilangan bulat `n` dan menghasilkan urutan bilangan seperti berikut ini:\n",
        "```\n",
        "Input: n = 4\n",
        "Output: 1, 1, 2, 6, 24\n",
        "```\n",
        "Fungsi ini harus menggunakan konsep rekursi untuk menghitung faktorial setiap angka hingga `n`.\n"
      ],
      "metadata": {
        "id": "Bi7xxdBq5zvN"
      }
    },
    {
      "cell_type": "code",
      "source": [
        "def faktorial(n):\n",
        "\n",
        "    if n == 0 or n == 1:\n",
        "        return 1\n",
        "    else:\n",
        "        return n * faktorial(n - 1)\n",
        "\n",
        "def urutan_faktorial(n):\n",
        "\n",
        "    return [faktorial(i) for i in range(1, n + 1)]\n",
        "\n",
        "# Penggunaan\n",
        "n = 4\n",
        "output = urutan_faktorial(n)\n",
        "print(output)\n"
      ],
      "metadata": {
        "colab": {
          "base_uri": "https://localhost:8080/"
        },
        "id": "gbFhf0GR57bE",
        "outputId": "2dc61c63-91c5-4447-ece0-012660a9bfa3"
      },
      "execution_count": 16,
      "outputs": [
        {
          "output_type": "stream",
          "name": "stdout",
          "text": [
            "[1, 2, 6, 24]\n"
          ]
        }
      ]
    },
    {
      "cell_type": "markdown",
      "source": [
        "7. Buatlah program untuk memecahkan masalah \"minimum coin change\". Diberikan jumlah uang dan daftar nilai koin yang tersedia (misalnya, 1, 5, 10, 25), tentukan kombinasi minimum koin yang diperlukan untuk mencapai jumlah uang tersebut. Namun, program Anda harus bisa menangani koin-koin yang nilai dan jumlahnya ditentukan pengguna."
      ],
      "metadata": {
        "id": "roXpYvqD570W"
      }
    },
    {
      "cell_type": "code",
      "source": [
        "def minimum_coin_change(amount, coins):\n",
        "    # Inisialisasi tabel untuk menyimpan jumlah minimum koin untuk setiap jumlah\n",
        "    dp = [float('inf')] * (amount + 1)\n",
        "    dp[0] = 0  # Tidak memerlukan koin untuk mencapai jumlah 0\n",
        "\n",
        "    # Proses untuk setiap koin yang tersedia\n",
        "    for coin in coins:\n",
        "        for x in range(coin, amount + 1):\n",
        "            dp[x] = min(dp[x], dp[x - coin] + 1)\n",
        "\n",
        "    # Jika dp[amount] masih inf, berarti tidak ada solusi\n",
        "    if dp[amount] == float('inf'):\n",
        "        return None\n",
        "    else:\n",
        "        return dp[amount]\n",
        "\n",
        "# Contoh penggunaan\n",
        "def main():\n",
        "    # Input jumlah uang\n",
        "    amount = int(input(\"Masukkan jumlah uang yang ingin dicapai: \"))\n",
        "    # Input nilai koin yang tersedia\n",
        "    coins_input = input(\"Masukkan nilai koin yang tersedia (pisahkan dengan spasi): \")\n",
        "    coins = list(map(int, coins_input.split()))\n",
        "\n",
        "    # Menghitung kombinasi minimum koin\n",
        "    result = minimum_coin_change(amount, coins)\n",
        "\n",
        "    if result is None:\n",
        "        print(\"Tidak mungkin mencapai jumlah tersebut dengan koin yang tersedia.\")\n",
        "    else:\n",
        "        print(f\"Jumlah minimum koin yang diperlukan: {result}\")\n",
        "\n",
        "# Memulai program\n",
        "if __name__ == \"__main__\":\n",
        "    main()\n"
      ],
      "metadata": {
        "colab": {
          "base_uri": "https://localhost:8080/"
        },
        "id": "psMSWTEW5-nF",
        "outputId": "cd89978c-0a80-4f68-f479-5281a6d45d49"
      },
      "execution_count": 7,
      "outputs": [
        {
          "output_type": "stream",
          "name": "stdout",
          "text": [
            "Masukkan jumlah uang yang ingin dicapai: 7\n",
            "Masukkan nilai koin yang tersedia (pisahkan dengan spasi): 1\n",
            "Jumlah minimum koin yang diperlukan: 7\n"
          ]
        }
      ]
    },
    {
      "cell_type": "markdown",
      "source": [
        "8. Buat sebuah program yang menerima string dari pengguna dan mengonversi string tersebut menjadi sebuah list berisi kata-kata terbalik. Misalnya:\n",
        "```\n",
        "Input: \"Saya suka Python\"\n",
        "Output: [\"ayaS\", \"akus\", \"nohtyP\"]\n",
        "```\n"
      ],
      "metadata": {
        "id": "i050tvSa6Bc6"
      }
    },
    {
      "cell_type": "code",
      "source": [
        "def reverse_words(input_string):\n",
        "    # Memisahkan string menjadi list kata\n",
        "    words = input_string.split()\n",
        "    # Membalik setiap kata dan menyimpannya dalam list baru\n",
        "    reversed_words = [word[::-1] for word in words]\n",
        "    return reversed_words\n",
        "\n",
        "# Fungsi utama untuk meminta input dari pengguna\n",
        "def main():\n",
        "    # Menerima input string dari pengguna\n",
        "    user_input = input(\"Masukkan string: \")\n",
        "    # Mengonversi string menjadi list kata terbalik\n",
        "    result = reverse_words(user_input)\n",
        "    # Menampilkan hasil\n",
        "    print(result)\n",
        "\n",
        "# Memulai program\n",
        "if __name__ == \"__main__\":\n",
        "    main()\n"
      ],
      "metadata": {
        "colab": {
          "base_uri": "https://localhost:8080/"
        },
        "id": "oJFm_IfC6EC2",
        "outputId": "7db58f60-e802-4492-b131-46b3308cab2b"
      },
      "execution_count": 8,
      "outputs": [
        {
          "output_type": "stream",
          "name": "stdout",
          "text": [
            "Masukkan string: Seventeen Right Here\n",
            "['neetneveS', 'thgiR', 'ereH']\n"
          ]
        }
      ]
    },
    {
      "cell_type": "markdown",
      "source": [
        "9. Buat class bernama `Buku` yang memiliki atribut `judul`, `penulis`, dan `tahun_terbit`. Buat method dalam class untuk menampilkan informasi buku, serta method untuk menghitung usia buku berdasarkan tahun saat ini. Buatlah 3 objek dari class `Buku` dan tampilkan informasi serta usia masing-masing buku"
      ],
      "metadata": {
        "id": "O8I6spY-6EbM"
      }
    },
    {
      "cell_type": "code",
      "source": [
        "class Buku:\n",
        "    def __init__(self, judul, penulis, tahun_terbit):\n",
        "        self.judul = judul\n",
        "        self.penulis = penulis\n",
        "        self.tahun_terbit = tahun_terbit\n",
        "\n",
        "    def tampilkan_informasi(self):\n",
        "        print(f\"Judul: {self.judul}\")\n",
        "        print(f\"Penulis: {self.penulis}\")\n",
        "        print(f\"Tahun Terbit: {self.tahun_terbit}\")\n",
        "\n",
        "    def hitung_usia(self):\n",
        "        from datetime import datetime\n",
        "        tahun_sekarang = datetime.now().year\n",
        "        return tahun_sekarang - self.tahun_terbit\n",
        "\n",
        "# Membuat 3 objek dari class Buku\n",
        "buku1 = Buku(\"Maryamah Karpov\", \"Andrea Hirata\", 2008)\n",
        "buku2 = Buku(\"Laut Bercerita\", \"Leila S. Chudori\", 2017)\n",
        "buku3 = Buku(\"Rindu\", \"Tere Liye\", 2014)\n",
        "\n",
        "# Menampilkan informasi dan usia masing-masing buku\n",
        "for buku in [buku1, buku2, buku3]:\n",
        "    buku.tampilkan_informasi()\n",
        "    print(f\"Usia Buku: {buku.hitung_usia()} tahun\\n\")\n"
      ],
      "metadata": {
        "colab": {
          "base_uri": "https://localhost:8080/"
        },
        "id": "Z8dcw3Ur6G28",
        "outputId": "07ae09a3-dcc8-42fe-d91c-c6b010ebcb81"
      },
      "execution_count": 23,
      "outputs": [
        {
          "output_type": "stream",
          "name": "stdout",
          "text": [
            "Judul: Maryamah Karpov\n",
            "Penulis: Andrea Hirata\n",
            "Tahun Terbit: 2008\n",
            "Usia Buku: 16 tahun\n",
            "\n",
            "Judul: Laut Bercerita\n",
            "Penulis: Leila S. Chudori\n",
            "Tahun Terbit: 2017\n",
            "Usia Buku: 7 tahun\n",
            "\n",
            "Judul: Rindu\n",
            "Penulis: Tere Liye\n",
            "Tahun Terbit: 2014\n",
            "Usia Buku: 10 tahun\n",
            "\n"
          ]
        }
      ]
    },
    {
      "cell_type": "markdown",
      "source": [
        "10. Buatlah program yang mengimplementasikan algoritma pencarian biner, namun dengan modifikasi: algoritma harus bisa mencari nilai di list yang hanya berisi angka genap, dan jika nilai yang dicari adalah angka ganjil, program harus menampilkan pesan bahwa nilai tersebut tidak bisa ditemukan.\n"
      ],
      "metadata": {
        "id": "EYopY1u26HN1"
      }
    },
    {
      "cell_type": "code",
      "source": [
        "def pencarian_biner(arr, target):\n",
        "    low = 0\n",
        "    high = len(arr) - 1\n",
        "\n",
        "    while low <= high:\n",
        "        mid = (low + high) // 2\n",
        "        if arr[mid] == target:\n",
        "            return mid\n",
        "        elif arr[mid] < target:\n",
        "            low = mid + 1\n",
        "        else:\n",
        "            high = mid - 1\n",
        "    return -1\n",
        "\n",
        "def main():\n",
        "    # Daftar angka genap yang sudah terurut\n",
        "    daftar_genap = [0, 2, 4, 6, 8, 10, 12, 14, 16, 18, 20]\n",
        "\n",
        "    # Meminta input dari pengguna\n",
        "    nilai_dicari = int(input(\"Masukkan nilai yang ingin dicari: \"))\n",
        "\n",
        "    # Memeriksa apakah nilai yang dicari adalah angka genap\n",
        "    if nilai_dicari % 2 != 0:\n",
        "        print(\"Nilai tidak bisa ditemukan. Harap masukkan angka genap.\")\n",
        "    else:\n",
        "        # Melakukan pencarian biner\n",
        "        hasil = pencarian_biner(daftar_genap, nilai_dicari)\n",
        "        if hasil != -1:\n",
        "            print(f\"Nilai {nilai_dicari} ditemukan pada indeks {hasil}.\")\n",
        "        else:\n",
        "            print(f\"Nilai {nilai_dicari} tidak ditemukan dalam daftar.\")\n",
        "\n",
        "# Memulai program\n",
        "if __name__ == \"__main__\":\n",
        "    main()\n"
      ],
      "metadata": {
        "colab": {
          "base_uri": "https://localhost:8080/"
        },
        "id": "VrmGC75cNhjg",
        "outputId": "0c9cf301-bc1a-4182-e653-53e8c4811459"
      },
      "execution_count": 27,
      "outputs": [
        {
          "output_type": "stream",
          "name": "stdout",
          "text": [
            "Masukkan nilai yang ingin dicari: 2\n",
            "Nilai 2 ditemukan pada indeks 1.\n"
          ]
        }
      ]
    }
  ]
}