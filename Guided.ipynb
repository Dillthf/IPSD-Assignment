{
  "nbformat": 4,
  "nbformat_minor": 0,
  "metadata": {
    "colab": {
      "provenance": [],
      "authorship_tag": "ABX9TyMVeVCwfEUI0gz+UjG2QHQn",
      "include_colab_link": true
    },
    "kernelspec": {
      "name": "python3",
      "display_name": "Python 3"
    },
    "language_info": {
      "name": "python"
    }
  },
  "cells": [
    {
      "cell_type": "markdown",
      "metadata": {
        "id": "view-in-github",
        "colab_type": "text"
      },
      "source": [
        "<a href=\"https://colab.research.google.com/github/Dillthf/IPSD-Assignment/blob/main/Guided.ipynb\" target=\"_parent\"><img src=\"https://colab.research.google.com/assets/colab-badge.svg\" alt=\"Open In Colab\"/></a>"
      ]
    },
    {
      "cell_type": "markdown",
      "source": [
        "Buat Program yang Menampilkan Nama dan Umur"
      ],
      "metadata": {
        "id": "PwV7DX40SLGn"
      }
    },
    {
      "cell_type": "code",
      "execution_count": 3,
      "metadata": {
        "colab": {
          "base_uri": "https://localhost:8080/"
        },
        "id": "Z4WgkaUuPI85",
        "outputId": "36125816-4706-4ca7-d779-bd2dbb9b7326"
      },
      "outputs": [
        {
          "output_type": "stream",
          "name": "stdout",
          "text": [
            "Nama : Yanto \n",
            "Umur : 38\n"
          ]
        }
      ],
      "source": [
        "nama = \"Yanto\"\n",
        "umur = 38\n",
        "print(f\"Nama : {nama} \\nUmur : {umur}\")"
      ]
    },
    {
      "cell_type": "markdown",
      "source": [
        "Buat variabel untuk menyimpan nilai luas dan keliling lingkaran, hitung hasilnya."
      ],
      "metadata": {
        "id": "BFkFAP0dSRVv"
      }
    },
    {
      "cell_type": "code",
      "source": [
        "from math import pi\n",
        "\n",
        "jari = 8\n",
        "luas = pi *jari**2\n",
        "keliling = 2*pi*jari\n",
        "print(f\"Luas Lingkaran : {luas} \\nKeliling Lingkaran : {keliling}\")"
      ],
      "metadata": {
        "colab": {
          "base_uri": "https://localhost:8080/"
        },
        "id": "PJb0fvd4SF8E",
        "outputId": "dec683b2-8837-4c51-b486-ca7ed07253e7"
      },
      "execution_count": 4,
      "outputs": [
        {
          "output_type": "stream",
          "name": "stdout",
          "text": [
            "Luas Lingkaran : 201.06192982974676 \n",
            "Keliling Lingkaran : 50.26548245743669\n"
          ]
        }
      ]
    },
    {
      "cell_type": "markdown",
      "source": [
        "Tampilkan tipe data dari variabel yang menyimpan angka dan teks."
      ],
      "metadata": {
        "id": "ekBrtvoFSa3Y"
      }
    },
    {
      "cell_type": "code",
      "source": [
        "angka = 129\n",
        "teks = 'ini angka'\n",
        "print(f\"Tipe Data Angka : {type(angka)} \\nTipe Data Teks : {type(teks)}\")"
      ],
      "metadata": {
        "colab": {
          "base_uri": "https://localhost:8080/"
        },
        "id": "Cuv3CC3xSXwZ",
        "outputId": "ca2a6747-53b8-44a4-dcef-e8fe8e5c205c"
      },
      "execution_count": 5,
      "outputs": [
        {
          "output_type": "stream",
          "name": "stdout",
          "text": [
            "Tipe Data Angka : <class 'int'> \n",
            "Tipe Data Teks : <class 'str'>\n"
          ]
        }
      ]
    },
    {
      "cell_type": "markdown",
      "source": [
        "Buat program yang mengubah nilai dari tipe integer menjadi float."
      ],
      "metadata": {
        "id": "WKYxPjHKSiZ3"
      }
    },
    {
      "cell_type": "code",
      "source": [
        "nilai = 100\n",
        "print(f'nilai kamu adalah {nilai} dan tipe datanya adalah {type(nilai)}')\n",
        "nilai = float(nilai)\n",
        "print(f'nilai kamu adalah {nilai} dan tipe datanya adalah {type(nilai)}')"
      ],
      "metadata": {
        "colab": {
          "base_uri": "https://localhost:8080/"
        },
        "id": "jlj6TMKxSoL8",
        "outputId": "0814f106-0cc9-4ddd-cb9b-0eea500152e5"
      },
      "execution_count": 6,
      "outputs": [
        {
          "output_type": "stream",
          "name": "stdout",
          "text": [
            "nilai kamu adalah 100 dan tipe datanya adalah <class 'int'>\n",
            "nilai kamu adalah 100.0 dan tipe datanya adalah <class 'float'>\n"
          ]
        }
      ]
    },
    {
      "cell_type": "markdown",
      "source": [
        "Buat program yang mengubah string menjadi integer dan sebaliknya."
      ],
      "metadata": {
        "id": "HbMoJ1noSgC1"
      }
    },
    {
      "cell_type": "code",
      "source": [
        "a = \"123\"\n",
        "print(f\"Tipe Data a : {type(a)}\")\n",
        "a = int(a)\n",
        "print(f\"Tipe Data a : {type(a)}\")"
      ],
      "metadata": {
        "colab": {
          "base_uri": "https://localhost:8080/"
        },
        "id": "PJqUgBeFSu2Y",
        "outputId": "336e27ab-9231-4152-f32e-f446f22853fe"
      },
      "execution_count": 7,
      "outputs": [
        {
          "output_type": "stream",
          "name": "stdout",
          "text": [
            "Tipe Data a : <class 'str'>\n",
            "Tipe Data a : <class 'int'>\n"
          ]
        }
      ]
    },
    {
      "cell_type": "markdown",
      "source": [
        "Buat program yang mengalikan string dengan angka"
      ],
      "metadata": {
        "id": "-OYj-XPSS_jm"
      }
    },
    {
      "cell_type": "code",
      "source": [
        "text = \"ulang \"\n",
        "multiplied_text = text * 3\n",
        "print(multiplied_text)"
      ],
      "metadata": {
        "colab": {
          "base_uri": "https://localhost:8080/"
        },
        "id": "7nSfQnZOTDs_",
        "outputId": "632d83e5-3c2c-402e-93e0-3134afb51340"
      },
      "execution_count": 8,
      "outputs": [
        {
          "output_type": "stream",
          "name": "stdout",
          "text": [
            "ulang ulang ulang \n"
          ]
        }
      ]
    },
    {
      "cell_type": "markdown",
      "source": [
        "Buat program yang memeriksa apakah angka adalah bilangan genap atau ganjil"
      ],
      "metadata": {
        "id": "vostr4InTCVY"
      }
    },
    {
      "cell_type": "code",
      "source": [
        "number = 7\n",
        "if number % 2 == 0:\n",
        "  print(\"Genap\")\n",
        "else:\n",
        "  print(\"Ganjil\")"
      ],
      "metadata": {
        "colab": {
          "base_uri": "https://localhost:8080/"
        },
        "id": "BsWnI8czS-AW",
        "outputId": "6a997a63-d3f3-4642-e96d-949cdcc89250"
      },
      "execution_count": 9,
      "outputs": [
        {
          "output_type": "stream",
          "name": "stdout",
          "text": [
            "Ganjil\n"
          ]
        }
      ]
    },
    {
      "cell_type": "markdown",
      "source": [
        "Buat program yang memeriksa apakah sebuah nilai lebih besar dari 100"
      ],
      "metadata": {
        "id": "l_mTV8f7SvV7"
      }
    },
    {
      "cell_type": "code",
      "source": [
        "value = 150\n",
        "if value > 100:\n",
        "    print(\"lebih dari 100\")\n",
        "else:\n",
        "    print(\"100 atau kurang dari\")"
      ],
      "metadata": {
        "colab": {
          "base_uri": "https://localhost:8080/"
        },
        "id": "h4W1Q7DqSvxX",
        "outputId": "7551c8e9-bb79-4a89-eaa7-e2e61676f1ad"
      },
      "execution_count": 10,
      "outputs": [
        {
          "output_type": "stream",
          "name": "stdout",
          "text": [
            "lebih dari 100\n"
          ]
        }
      ]
    },
    {
      "cell_type": "markdown",
      "source": [
        "Buat program yang menerima input umur dan menampilkan kategori umur (anak-anak, remaja, dewasa)"
      ],
      "metadata": {
        "id": "l0YM5tSuSwG_"
      }
    },
    {
      "cell_type": "code",
      "source": [
        "age = 16\n",
        "if age <= 12:\n",
        "    print(\"Anak-anak\")\n",
        "elif 13 <= age <= 17:\n",
        "    print(\"Remaja\")\n",
        "else:\n",
        "    print(\"Dewasa\")"
      ],
      "metadata": {
        "colab": {
          "base_uri": "https://localhost:8080/"
        },
        "id": "Zy8feElESwv9",
        "outputId": "95ca5c89-d834-476e-9d9a-1490000132ed"
      },
      "execution_count": 11,
      "outputs": [
        {
          "output_type": "stream",
          "name": "stdout",
          "text": [
            "Remaja\n"
          ]
        }
      ]
    },
    {
      "cell_type": "markdown",
      "source": [
        "Buat program yang meminta input nama pengguna, jika nama benar tampilkan \"Selamat datang\""
      ],
      "metadata": {
        "id": "IhdUB5QBSxaE"
      }
    },
    {
      "cell_type": "code",
      "source": [
        "username = input(\"Enter username: \")\n",
        "if username == \"Jono\":\n",
        "    print(\"Selamat datang {username}\")\n",
        "elif username == \"Slamet\":\n",
        "    print(f\"Selamat datang {username}\")\n",
        "else:\n",
        "    print(\"Nama tidak dikenali\")"
      ],
      "metadata": {
        "colab": {
          "base_uri": "https://localhost:8080/"
        },
        "id": "0d5srULRSx2e",
        "outputId": "20fafacd-d1da-4c67-9e2a-6766084753a5"
      },
      "execution_count": 12,
      "outputs": [
        {
          "output_type": "stream",
          "name": "stdout",
          "text": [
            "Enter username: Jono\n",
            "Selamat datang {username}\n"
          ]
        }
      ]
    },
    {
      "cell_type": "markdown",
      "source": [
        "Buat program yang menampilkan apakah suatu tahun adalah tahun kabisat"
      ],
      "metadata": {
        "id": "EaA8CkZGSyTg"
      }
    },
    {
      "cell_type": "code",
      "source": [
        "year = 2024\n",
        "if (year % 4 == 0 and year % 100 != 0) or (year % 400 == 0):\n",
        "    print(\"Tahun Kabisat\")\n",
        "else:\n",
        "    print(\"Bukan Tahun Kabisat\")\n"
      ],
      "metadata": {
        "colab": {
          "base_uri": "https://localhost:8080/"
        },
        "id": "V9D3ZEydSysO",
        "outputId": "9d356c58-4aa6-44ed-cccc-a771054434f8"
      },
      "execution_count": 13,
      "outputs": [
        {
          "output_type": "stream",
          "name": "stdout",
          "text": [
            "Tahun Kabisat\n"
          ]
        }
      ]
    },
    {
      "cell_type": "markdown",
      "source": [
        "Buat program untuk menentukan apakah seseorang boleh memberikan suara berdasarkan umurnya"
      ],
      "metadata": {
        "id": "EDR-rUULSJW7"
      }
    },
    {
      "cell_type": "code",
      "source": [
        "age = 18\n",
        "if age >= 18:\n",
        "    print(\"Boleh memberikan suara\")\n",
        "else:\n",
        "    print(\"Tidak boleh memberikan suara\")"
      ],
      "metadata": {
        "colab": {
          "base_uri": "https://localhost:8080/"
        },
        "id": "KyoOQJ9RSzX4",
        "outputId": "54042dc7-4a4b-4084-a521-7a04f45d3834"
      },
      "execution_count": 14,
      "outputs": [
        {
          "output_type": "stream",
          "name": "stdout",
          "text": [
            "Boleh memberikan suara\n"
          ]
        }
      ]
    },
    {
      "cell_type": "markdown",
      "source": [
        "Buat program yang meminta input tiga angka dan menampilkan angka terbesar."
      ],
      "metadata": {
        "id": "qrpoGCYKT_9X"
      }
    },
    {
      "cell_type": "code",
      "source": [
        "a, b, c = 3, 7, 5\n",
        "largest = max(a, b, c)\n",
        "print(f\"Nilai terbesar {largest}\")\n"
      ],
      "metadata": {
        "colab": {
          "base_uri": "https://localhost:8080/"
        },
        "id": "kIEINbTXT-0s",
        "outputId": "3a176693-9ed9-4402-da5b-5a4a0948bc52"
      },
      "execution_count": 15,
      "outputs": [
        {
          "output_type": "stream",
          "name": "stdout",
          "text": [
            "Nilai terbesar 7\n"
          ]
        }
      ]
    },
    {
      "cell_type": "markdown",
      "source": [
        "Buat program yang mengecek apakah dua string memiliki panjang yang sama"
      ],
      "metadata": {
        "id": "QwdbUsKRSztU"
      }
    },
    {
      "cell_type": "code",
      "source": [
        "str1 = \"hello\"\n",
        "str2 = \"world\"\n",
        "if len(str1) == len(str2):\n",
        "    print(\"Memiliki Panjang yg sama\")\n",
        "else:\n",
        "    print(\"Memiliki panjang yg berbeda\")"
      ],
      "metadata": {
        "colab": {
          "base_uri": "https://localhost:8080/"
        },
        "id": "yj3KDlr2S0JZ",
        "outputId": "ac2f9812-0d55-4f17-c256-919ee7a80580"
      },
      "execution_count": 16,
      "outputs": [
        {
          "output_type": "stream",
          "name": "stdout",
          "text": [
            "Memiliki Panjang yg sama\n"
          ]
        }
      ]
    },
    {
      "cell_type": "markdown",
      "source": [
        "Buat program yang menampilkan angka 1 sampai 10 menggunakan for loop"
      ],
      "metadata": {
        "id": "U0onI31hS0kV"
      }
    },
    {
      "cell_type": "code",
      "source": [
        "for i in range(1, 11):\n",
        "    print(i)"
      ],
      "metadata": {
        "colab": {
          "base_uri": "https://localhost:8080/"
        },
        "id": "RpMsE1DCS1OG",
        "outputId": "a0f54993-9ca1-4e24-891d-ccecca7c35b9"
      },
      "execution_count": 17,
      "outputs": [
        {
          "output_type": "stream",
          "name": "stdout",
          "text": [
            "1\n",
            "2\n",
            "3\n",
            "4\n",
            "5\n",
            "6\n",
            "7\n",
            "8\n",
            "9\n",
            "10\n"
          ]
        }
      ]
    },
    {
      "cell_type": "markdown",
      "source": [
        "Buat program yang menerima input dan menampilkan kalimat tersebut sebanyak 5 kali"
      ],
      "metadata": {
        "id": "j_6s83oYS1jt"
      }
    },
    {
      "cell_type": "code",
      "source": [
        "sentence = input(\"Masukkan Kalimat: \")\n",
        "for _ in range(5):\n",
        "    print(sentence)\n"
      ],
      "metadata": {
        "colab": {
          "base_uri": "https://localhost:8080/"
        },
        "id": "--TosEMrS2Ao",
        "outputId": "28b38fad-b229-4c50-d7ff-2afcb3891bae"
      },
      "execution_count": 18,
      "outputs": [
        {
          "output_type": "stream",
          "name": "stdout",
          "text": [
            "Masukkan Kalimat: Wuji imoet\n",
            "Wuji imoet\n",
            "Wuji imoet\n",
            "Wuji imoet\n",
            "Wuji imoet\n",
            "Wuji imoet\n"
          ]
        }
      ]
    },
    {
      "cell_type": "markdown",
      "source": [
        "Buat program untuk menghitung jumlah angka dari 1 sampai N"
      ],
      "metadata": {
        "id": "f3UjNl2PS2fI"
      }
    },
    {
      "cell_type": "code",
      "source": [
        "N = 10\n",
        "total_sum = sum(range(1, N + 1))\n",
        "print(f\"Sum dari 1 to {N} adalah {total_sum}\")"
      ],
      "metadata": {
        "colab": {
          "base_uri": "https://localhost:8080/"
        },
        "id": "ads20BYBS2-p",
        "outputId": "9ef8cf88-6d89-4c9a-8cb7-7977581953b1"
      },
      "execution_count": 19,
      "outputs": [
        {
          "output_type": "stream",
          "name": "stdout",
          "text": [
            "Sum dari 1 to 10 adalah 55\n"
          ]
        }
      ]
    },
    {
      "cell_type": "markdown",
      "source": [
        "Buat program yang menggunakan break untuk keluar dari loop jika kondisi tertentu terpenuhi"
      ],
      "metadata": {
        "id": "jvyks_0uS3eJ"
      }
    },
    {
      "cell_type": "code",
      "source": [
        "for i in range(1, 11):\n",
        "    if i == 5:\n",
        "        break\n",
        "    print(i)"
      ],
      "metadata": {
        "colab": {
          "base_uri": "https://localhost:8080/"
        },
        "id": "MgfcooDSS32m",
        "outputId": "b0b4bc97-e935-434a-b962-a272d41ed15c"
      },
      "execution_count": 20,
      "outputs": [
        {
          "output_type": "stream",
          "name": "stdout",
          "text": [
            "1\n",
            "2\n",
            "3\n",
            "4\n"
          ]
        }
      ]
    },
    {
      "cell_type": "markdown",
      "source": [
        "Buat program yang menampilkan tabel perkalian 1 sampai 10"
      ],
      "metadata": {
        "id": "HES1uQjwUcuk"
      }
    },
    {
      "cell_type": "code",
      "source": [
        "for i in range(1, 11):\n",
        "    for j in range(1, 11):\n",
        "        print(f\"{i} x {j} = {i * j}\")\n",
        "    print()"
      ],
      "metadata": {
        "colab": {
          "base_uri": "https://localhost:8080/"
        },
        "id": "C-T-x1LgUdVF",
        "outputId": "54a7a19d-31ee-48c5-f626-4b4b24a3ebfa"
      },
      "execution_count": 21,
      "outputs": [
        {
          "output_type": "stream",
          "name": "stdout",
          "text": [
            "1 x 1 = 1\n",
            "1 x 2 = 2\n",
            "1 x 3 = 3\n",
            "1 x 4 = 4\n",
            "1 x 5 = 5\n",
            "1 x 6 = 6\n",
            "1 x 7 = 7\n",
            "1 x 8 = 8\n",
            "1 x 9 = 9\n",
            "1 x 10 = 10\n",
            "\n",
            "2 x 1 = 2\n",
            "2 x 2 = 4\n",
            "2 x 3 = 6\n",
            "2 x 4 = 8\n",
            "2 x 5 = 10\n",
            "2 x 6 = 12\n",
            "2 x 7 = 14\n",
            "2 x 8 = 16\n",
            "2 x 9 = 18\n",
            "2 x 10 = 20\n",
            "\n",
            "3 x 1 = 3\n",
            "3 x 2 = 6\n",
            "3 x 3 = 9\n",
            "3 x 4 = 12\n",
            "3 x 5 = 15\n",
            "3 x 6 = 18\n",
            "3 x 7 = 21\n",
            "3 x 8 = 24\n",
            "3 x 9 = 27\n",
            "3 x 10 = 30\n",
            "\n",
            "4 x 1 = 4\n",
            "4 x 2 = 8\n",
            "4 x 3 = 12\n",
            "4 x 4 = 16\n",
            "4 x 5 = 20\n",
            "4 x 6 = 24\n",
            "4 x 7 = 28\n",
            "4 x 8 = 32\n",
            "4 x 9 = 36\n",
            "4 x 10 = 40\n",
            "\n",
            "5 x 1 = 5\n",
            "5 x 2 = 10\n",
            "5 x 3 = 15\n",
            "5 x 4 = 20\n",
            "5 x 5 = 25\n",
            "5 x 6 = 30\n",
            "5 x 7 = 35\n",
            "5 x 8 = 40\n",
            "5 x 9 = 45\n",
            "5 x 10 = 50\n",
            "\n",
            "6 x 1 = 6\n",
            "6 x 2 = 12\n",
            "6 x 3 = 18\n",
            "6 x 4 = 24\n",
            "6 x 5 = 30\n",
            "6 x 6 = 36\n",
            "6 x 7 = 42\n",
            "6 x 8 = 48\n",
            "6 x 9 = 54\n",
            "6 x 10 = 60\n",
            "\n",
            "7 x 1 = 7\n",
            "7 x 2 = 14\n",
            "7 x 3 = 21\n",
            "7 x 4 = 28\n",
            "7 x 5 = 35\n",
            "7 x 6 = 42\n",
            "7 x 7 = 49\n",
            "7 x 8 = 56\n",
            "7 x 9 = 63\n",
            "7 x 10 = 70\n",
            "\n",
            "8 x 1 = 8\n",
            "8 x 2 = 16\n",
            "8 x 3 = 24\n",
            "8 x 4 = 32\n",
            "8 x 5 = 40\n",
            "8 x 6 = 48\n",
            "8 x 7 = 56\n",
            "8 x 8 = 64\n",
            "8 x 9 = 72\n",
            "8 x 10 = 80\n",
            "\n",
            "9 x 1 = 9\n",
            "9 x 2 = 18\n",
            "9 x 3 = 27\n",
            "9 x 4 = 36\n",
            "9 x 5 = 45\n",
            "9 x 6 = 54\n",
            "9 x 7 = 63\n",
            "9 x 8 = 72\n",
            "9 x 9 = 81\n",
            "9 x 10 = 90\n",
            "\n",
            "10 x 1 = 10\n",
            "10 x 2 = 20\n",
            "10 x 3 = 30\n",
            "10 x 4 = 40\n",
            "10 x 5 = 50\n",
            "10 x 6 = 60\n",
            "10 x 7 = 70\n",
            "10 x 8 = 80\n",
            "10 x 9 = 90\n",
            "10 x 10 = 100\n",
            "\n"
          ]
        }
      ]
    },
    {
      "cell_type": "markdown",
      "source": [
        "Buat program untuk menghitung jumlah bilangan ganjil antara dua bilangan yang diberikan"
      ],
      "metadata": {
        "id": "AmUSb5YaUd1E"
      }
    },
    {
      "cell_type": "code",
      "source": [
        "start = 1\n",
        "end = 10\n",
        "sum_odds = sum(i for i in range(start, end + 1) if i % 2 != 0)\n",
        "print(f\"Sum of odd numbers between {start} and {end} is {sum_odds}\")"
      ],
      "metadata": {
        "colab": {
          "base_uri": "https://localhost:8080/"
        },
        "id": "B9GOWVlaUfL9",
        "outputId": "b9cf1c50-df20-49ac-bf67-c32bcc0e4b52"
      },
      "execution_count": 22,
      "outputs": [
        {
          "output_type": "stream",
          "name": "stdout",
          "text": [
            "Sum of odd numbers between 1 and 10 is 25\n"
          ]
        }
      ]
    },
    {
      "cell_type": "markdown",
      "source": [
        "Buat fungsi untuk menghitung luas segitiga"
      ],
      "metadata": {
        "id": "sNiNIRhHUfkN"
      }
    },
    {
      "cell_type": "code",
      "source": [
        "def triangle_area(base, height):\n",
        "    return 0.5 * base * height\n",
        "\n",
        "print(triangle_area(10, 5))"
      ],
      "metadata": {
        "colab": {
          "base_uri": "https://localhost:8080/"
        },
        "id": "COZu5WeKUgDx",
        "outputId": "e2bebda1-c20a-4c70-9df9-319fdf5d480f"
      },
      "execution_count": 23,
      "outputs": [
        {
          "output_type": "stream",
          "name": "stdout",
          "text": [
            "25.0\n"
          ]
        }
      ]
    },
    {
      "cell_type": "markdown",
      "source": [
        "Buat fungsi yang menerima nama dan menampilkan \"Halo, [nama]\""
      ],
      "metadata": {
        "id": "rIovn6F5Ughc"
      }
    },
    {
      "cell_type": "code",
      "source": [
        "def greet(name):\n",
        "    print(f\"Halo, {name}\")\n",
        "\n",
        "greet(\"Alice\")"
      ],
      "metadata": {
        "colab": {
          "base_uri": "https://localhost:8080/"
        },
        "id": "WBj-vr07Ug6g",
        "outputId": "d0515f78-c9d3-4d13-924d-54b2ad93546b"
      },
      "execution_count": 24,
      "outputs": [
        {
          "output_type": "stream",
          "name": "stdout",
          "text": [
            "Halo, Alice\n"
          ]
        }
      ]
    },
    {
      "cell_type": "markdown",
      "source": [
        "Buat fungsi untuk memeriksa apakah suatu angka adalah bilangan prima"
      ],
      "metadata": {
        "id": "DEfu7v1CVLK4"
      }
    },
    {
      "cell_type": "code",
      "source": [
        "def is_prime(n):\n",
        "    if n <= 1:\n",
        "        return False\n",
        "    for i in range(2, int(n**0.5) + 1):\n",
        "        if n % i == 0:\n",
        "            return False\n",
        "    return True\n",
        "\n",
        "print(is_prime(7))"
      ],
      "metadata": {
        "colab": {
          "base_uri": "https://localhost:8080/"
        },
        "id": "duneaEBIVKqV",
        "outputId": "24dcf739-65f7-44d6-fa74-9764a0fba012"
      },
      "execution_count": 25,
      "outputs": [
        {
          "output_type": "stream",
          "name": "stdout",
          "text": [
            "True\n"
          ]
        }
      ]
    },
    {
      "cell_type": "markdown",
      "source": [
        "Buat fungsi yang mengembalikan nilai maksimum dari tiga angka"
      ],
      "metadata": {
        "id": "yCmszMvJUhTh"
      }
    },
    {
      "cell_type": "code",
      "source": [
        "def max_of_three(a, b, c):\n",
        "    return max(a, b, c)\n",
        "\n",
        "print(max_of_three(3, 7, 5))"
      ],
      "metadata": {
        "colab": {
          "base_uri": "https://localhost:8080/"
        },
        "id": "nNYI4zsnUhtw",
        "outputId": "20c9e524-af22-4af6-b73c-94553cc2182f"
      },
      "execution_count": 26,
      "outputs": [
        {
          "output_type": "stream",
          "name": "stdout",
          "text": [
            "7\n"
          ]
        }
      ]
    },
    {
      "cell_type": "markdown",
      "source": [
        "Buat fungsi yang mengkonversi suhu dari Celcius ke Fahrenheit"
      ],
      "metadata": {
        "id": "ORWIaiNHUib5"
      }
    },
    {
      "cell_type": "code",
      "source": [
        "def celsius_ke_fahrenheit(celsius):\n",
        "    return (celsius * 9/5) + 32\n",
        "\n",
        "print(celsius_ke_fahrenheit(30))"
      ],
      "metadata": {
        "colab": {
          "base_uri": "https://localhost:8080/"
        },
        "id": "Pkve99o8Uiy0",
        "outputId": "14b3cf9b-46d8-4c3e-fcf7-a21afbdcfd7f"
      },
      "execution_count": 27,
      "outputs": [
        {
          "output_type": "stream",
          "name": "stdout",
          "text": [
            "86.0\n"
          ]
        }
      ]
    },
    {
      "cell_type": "markdown",
      "source": [
        "Buat fungsi yang menerima dua string dan menggabungkannya."
      ],
      "metadata": {
        "id": "6WIvo-cTUjLO"
      }
    },
    {
      "cell_type": "code",
      "source": [
        "def gabung(str1, str2):\n",
        "    return str1 + str2\n",
        "\n",
        "print(gabung(\"Hello, \", \"World!\"))"
      ],
      "metadata": {
        "colab": {
          "base_uri": "https://localhost:8080/"
        },
        "id": "6fOzfZ-JUjki",
        "outputId": "5a6aab20-b5d6-4f85-a84b-4d6b8f6382b4"
      },
      "execution_count": 28,
      "outputs": [
        {
          "output_type": "stream",
          "name": "stdout",
          "text": [
            "Hello, World!\n"
          ]
        }
      ]
    },
    {
      "cell_type": "markdown",
      "source": [
        "Buat fungsi rekursif untuk menghitung faktorial dari suatu angka."
      ],
      "metadata": {
        "id": "9Y7x0GOjUkD_"
      }
    },
    {
      "cell_type": "code",
      "source": [
        "def factorial(n):\n",
        "    if n == 0:\n",
        "        return 1\n",
        "    else:\n",
        "        return n * factorial(n-1)\n",
        "\n",
        "print(factorial(5))\n"
      ],
      "metadata": {
        "colab": {
          "base_uri": "https://localhost:8080/"
        },
        "id": "hVUOHH_FUkcO",
        "outputId": "59ececfa-89c5-42e1-da4d-5e7e121b6a14"
      },
      "execution_count": 29,
      "outputs": [
        {
          "output_type": "stream",
          "name": "stdout",
          "text": [
            "120\n"
          ]
        }
      ]
    },
    {
      "cell_type": "markdown",
      "source": [
        "Buat fungsi untuk menghitung total bilangan dalam sebuah list."
      ],
      "metadata": {
        "id": "dYktZj-SUkyD"
      }
    },
    {
      "cell_type": "code",
      "source": [
        "def sum_list(numbers):\n",
        "    return sum(numbers)\n",
        "\n",
        "print(sum_list([1, 2, 3, 4, 5]))\n"
      ],
      "metadata": {
        "colab": {
          "base_uri": "https://localhost:8080/"
        },
        "id": "QGsVfSr0V0qU",
        "outputId": "af56c846-3ecc-4f09-868a-632bce931988"
      },
      "execution_count": 30,
      "outputs": [
        {
          "output_type": "stream",
          "name": "stdout",
          "text": [
            "15\n"
          ]
        }
      ]
    },
    {
      "cell_type": "markdown",
      "source": [
        "Buat program yang membuat list dari 5 nama."
      ],
      "metadata": {
        "id": "fXiWltcuV3CL"
      }
    },
    {
      "cell_type": "code",
      "source": [
        "names = [\"Alice\", \"Bob\", \"Charlie\", \"David\", \"Eve\"]"
      ],
      "metadata": {
        "id": "ZG-PXXeTUlKo"
      },
      "execution_count": 31,
      "outputs": []
    },
    {
      "cell_type": "markdown",
      "source": [
        "Buat program untuk mengakses elemen pertama dan terakhir dari sebuah list."
      ],
      "metadata": {
        "id": "GjS5y0nhUlrG"
      }
    },
    {
      "cell_type": "code",
      "source": [
        "print(names[0])\n",
        "print(names[-1])\n"
      ],
      "metadata": {
        "colab": {
          "base_uri": "https://localhost:8080/"
        },
        "id": "Fk7d_ab1UmD4",
        "outputId": "64a664cd-11ed-415a-bcf4-15c979d0cfdb"
      },
      "execution_count": 32,
      "outputs": [
        {
          "output_type": "stream",
          "name": "stdout",
          "text": [
            "Alice\n",
            "Eve\n"
          ]
        }
      ]
    },
    {
      "cell_type": "markdown",
      "source": [
        "Buat program untuk menambahkan elemen baru ke list."
      ],
      "metadata": {
        "id": "0S7L5YBIVspP"
      }
    },
    {
      "cell_type": "code",
      "source": [
        "names.append(\"Frank\")\n",
        "print(names)"
      ],
      "metadata": {
        "colab": {
          "base_uri": "https://localhost:8080/"
        },
        "id": "dWNaZ_U8Vsbp",
        "outputId": "a998c6cc-51d1-4ce3-b609-3160384d4057"
      },
      "execution_count": 33,
      "outputs": [
        {
          "output_type": "stream",
          "name": "stdout",
          "text": [
            "['Alice', 'Bob', 'Charlie', 'David', 'Eve', 'Frank']\n"
          ]
        }
      ]
    },
    {
      "cell_type": "markdown",
      "source": [
        "Buat program untuk menghapus elemen tertentu dari list."
      ],
      "metadata": {
        "id": "3v1YRGVLVsOT"
      }
    },
    {
      "cell_type": "code",
      "source": [
        "print(len(names))"
      ],
      "metadata": {
        "colab": {
          "base_uri": "https://localhost:8080/"
        },
        "id": "mFlrlAmJVsBz",
        "outputId": "5a3521f7-2145-429a-e4b9-f0d027c06745"
      },
      "execution_count": 34,
      "outputs": [
        {
          "output_type": "stream",
          "name": "stdout",
          "text": [
            "6\n"
          ]
        }
      ]
    },
    {
      "cell_type": "markdown",
      "source": [
        "Buat program yang mengurutkan list angka secara ascending"
      ],
      "metadata": {
        "id": "rW8JxGp5Vr1r"
      }
    },
    {
      "cell_type": "code",
      "source": [
        "numbers = [3, 1, 4, 1, 5]\n",
        "numbers.sort()\n",
        "print(numbers)"
      ],
      "metadata": {
        "colab": {
          "base_uri": "https://localhost:8080/"
        },
        "id": "5gesTLy-VrpH",
        "outputId": "80c76559-ba83-467a-f7cb-b4eac4c73205"
      },
      "execution_count": 35,
      "outputs": [
        {
          "output_type": "stream",
          "name": "stdout",
          "text": [
            "[1, 1, 3, 4, 5]\n"
          ]
        }
      ]
    },
    {
      "cell_type": "markdown",
      "source": [
        "Buat program untuk membuat tuple yang berisi 5 bilangan."
      ],
      "metadata": {
        "id": "9B5MjPxbVrdI"
      }
    },
    {
      "cell_type": "code",
      "source": [
        "numbers_tuple = (1, 2, 3, 4, 5)"
      ],
      "metadata": {
        "id": "HO7fbLDWVrQY"
      },
      "execution_count": 36,
      "outputs": []
    },
    {
      "cell_type": "markdown",
      "source": [
        "Buat program untuk memeriksa apakah elemen ada dalam tuple."
      ],
      "metadata": {
        "id": "Dg_d1qx9VrDr"
      }
    },
    {
      "cell_type": "code",
      "source": [
        "print(3 in numbers_tuple)  # Output: True"
      ],
      "metadata": {
        "colab": {
          "base_uri": "https://localhost:8080/"
        },
        "id": "HFbUlPuaVq24",
        "outputId": "e7c7385b-c644-4900-f8a3-6db6146d56fa"
      },
      "execution_count": 37,
      "outputs": [
        {
          "output_type": "stream",
          "name": "stdout",
          "text": [
            "True\n"
          ]
        }
      ]
    },
    {
      "cell_type": "markdown",
      "source": [
        "Buat dictionary untuk menyimpan nama dan nilai siswa."
      ],
      "metadata": {
        "id": "QkRJ2fscVqox"
      }
    },
    {
      "cell_type": "code",
      "source": [
        "students = {\"Alice\": 85, \"Bob\": 90, \"Charlie\": 78}"
      ],
      "metadata": {
        "id": "HUtTsGgyVqbl"
      },
      "execution_count": 38,
      "outputs": []
    },
    {
      "cell_type": "markdown",
      "source": [
        "Buat program untuk menampilkan nilai seorang siswa dari dictionary."
      ],
      "metadata": {
        "id": "aLzxRgPcVqNq"
      }
    },
    {
      "cell_type": "code",
      "source": [
        "print(students[\"Alice\"])"
      ],
      "metadata": {
        "colab": {
          "base_uri": "https://localhost:8080/"
        },
        "id": "qzXE4sWUVqB0",
        "outputId": "8a67c667-8761-4a26-b829-2d1bdc973877"
      },
      "execution_count": 39,
      "outputs": [
        {
          "output_type": "stream",
          "name": "stdout",
          "text": [
            "85\n"
          ]
        }
      ]
    },
    {
      "cell_type": "markdown",
      "source": [
        "Buat program untuk menambahkan siswa baru ke dictionary"
      ],
      "metadata": {
        "id": "QB3zI-eXVp0w"
      }
    },
    {
      "cell_type": "code",
      "source": [
        "students[\"David\"] = 88\n",
        "print(students)"
      ],
      "metadata": {
        "colab": {
          "base_uri": "https://localhost:8080/"
        },
        "id": "J8e_CFhMv_Hg",
        "outputId": "2260a200-0ed8-4b4f-a4fd-92c894002b0f"
      },
      "execution_count": 40,
      "outputs": [
        {
          "output_type": "stream",
          "name": "stdout",
          "text": [
            "{'Alice': 85, 'Bob': 90, 'Charlie': 78, 'David': 88}\n"
          ]
        }
      ]
    },
    {
      "cell_type": "markdown",
      "source": [
        "Buat program yang menghapus entri dari dictionary berdasarkan nama siswa."
      ],
      "metadata": {
        "id": "MQbBz8DIv-ri"
      }
    },
    {
      "cell_type": "code",
      "source": [
        "del students[\"Bob\"]\n",
        "print(students)"
      ],
      "metadata": {
        "colab": {
          "base_uri": "https://localhost:8080/"
        },
        "id": "3VH59jAiv-TQ",
        "outputId": "11ecbb65-5e1c-4e99-9cad-d27f6ad31f07"
      },
      "execution_count": 41,
      "outputs": [
        {
          "output_type": "stream",
          "name": "stdout",
          "text": [
            "{'Alice': 85, 'Charlie': 78, 'David': 88}\n"
          ]
        }
      ]
    },
    {
      "cell_type": "markdown",
      "source": [
        "Buat program untuk mengupdate nilai siswa dalam dictionary."
      ],
      "metadata": {
        "id": "7k_IdKD7wAAt"
      }
    },
    {
      "cell_type": "code",
      "source": [
        "students[\"Alice\"] = 95\n",
        "print(students)"
      ],
      "metadata": {
        "colab": {
          "base_uri": "https://localhost:8080/"
        },
        "id": "GkqbQ8TpVpoQ",
        "outputId": "22417230-d2e0-43ec-b347-8e4e0fce4c6e"
      },
      "execution_count": 42,
      "outputs": [
        {
          "output_type": "stream",
          "name": "stdout",
          "text": [
            "{'Alice': 95, 'Charlie': 78, 'David': 88}\n"
          ]
        }
      ]
    },
    {
      "cell_type": "markdown",
      "source": [
        "Buat program yang menampilkan semua nama siswa dari dictionary."
      ],
      "metadata": {
        "id": "3l0JyRHgVpa8"
      }
    },
    {
      "cell_type": "code",
      "source": [
        "print(students.keys())"
      ],
      "metadata": {
        "colab": {
          "base_uri": "https://localhost:8080/"
        },
        "id": "GMmG0qkLVozE",
        "outputId": "147cc7e9-96db-40bf-b343-edeb7e9f4352"
      },
      "execution_count": 43,
      "outputs": [
        {
          "output_type": "stream",
          "name": "stdout",
          "text": [
            "dict_keys(['Alice', 'Charlie', 'David'])\n"
          ]
        }
      ]
    },
    {
      "cell_type": "markdown",
      "source": [
        "Buat program yang menampilkan semua nilai siswa dari dictionary."
      ],
      "metadata": {
        "id": "gtJ4vut8VokP"
      }
    },
    {
      "cell_type": "code",
      "source": [
        "print(students.values())"
      ],
      "metadata": {
        "colab": {
          "base_uri": "https://localhost:8080/"
        },
        "id": "Hih-LZdLVoYQ",
        "outputId": "32cd1206-d45d-4ca5-cfed-a8d4f5dce5a6"
      },
      "execution_count": 44,
      "outputs": [
        {
          "output_type": "stream",
          "name": "stdout",
          "text": [
            "dict_values([95, 78, 88])\n"
          ]
        }
      ]
    },
    {
      "cell_type": "markdown",
      "source": [
        "Buat program untuk mengubah nilai menjadi list dari sebuah dictionary."
      ],
      "metadata": {
        "id": "dDiTymHNVoLZ"
      }
    },
    {
      "cell_type": "code",
      "source": [
        "scores_list = list(students.values())\n",
        "print(scores_list)"
      ],
      "metadata": {
        "colab": {
          "base_uri": "https://localhost:8080/"
        },
        "id": "yciy1BKfVn-M",
        "outputId": "0c3b4e6c-8d7b-4ee8-88d2-af2ac1c14019"
      },
      "execution_count": 45,
      "outputs": [
        {
          "output_type": "stream",
          "name": "stdout",
          "text": [
            "[95, 78, 88]\n"
          ]
        }
      ]
    },
    {
      "cell_type": "markdown",
      "source": [
        "Buat program untuk membuat set yang berisi angka-angka unik."
      ],
      "metadata": {
        "id": "Wwx--MkJVnxW"
      }
    },
    {
      "cell_type": "code",
      "source": [
        "unique_numbers = {1, 2, 3, 4, 5}"
      ],
      "metadata": {
        "id": "kAE6Uc0VVnmA"
      },
      "execution_count": 46,
      "outputs": []
    },
    {
      "cell_type": "markdown",
      "source": [
        "Buat program yang menambahkan elemen baru ke dalam set."
      ],
      "metadata": {
        "id": "pCCpmlK_VnRw"
      }
    },
    {
      "cell_type": "code",
      "source": [
        "unique_numbers.add(6)\n",
        "print(unique_numbers)"
      ],
      "metadata": {
        "colab": {
          "base_uri": "https://localhost:8080/"
        },
        "id": "Wu3xQIMGxkLb",
        "outputId": "c5073d06-49e4-4fc3-8c46-432ebb6f9855"
      },
      "execution_count": 47,
      "outputs": [
        {
          "output_type": "stream",
          "name": "stdout",
          "text": [
            "{1, 2, 3, 4, 5, 6}\n"
          ]
        }
      ]
    },
    {
      "cell_type": "markdown",
      "source": [
        "Buat program yang menghapus elemen dari set."
      ],
      "metadata": {
        "id": "qa0cgr1ix1gO"
      }
    },
    {
      "cell_type": "code",
      "source": [
        "unique_numbers.remove(3)\n",
        "print(unique_numbers)"
      ],
      "metadata": {
        "colab": {
          "base_uri": "https://localhost:8080/"
        },
        "id": "3JwW2dkUVnFM",
        "outputId": "df694ca1-e2eb-4a63-f85f-f96fb0276385"
      },
      "execution_count": 48,
      "outputs": [
        {
          "output_type": "stream",
          "name": "stdout",
          "text": [
            "{1, 2, 4, 5, 6}\n"
          ]
        }
      ]
    },
    {
      "cell_type": "markdown",
      "source": [
        "Buat program yang menampilkan irisan dari dua set."
      ],
      "metadata": {
        "id": "Cx-CI2HHVlOc"
      }
    },
    {
      "cell_type": "code",
      "source": [
        "set1 = {1, 2, 3}\n",
        "set2 = {2, 3, 4}\n",
        "print(set1.intersection(set2))"
      ],
      "metadata": {
        "colab": {
          "base_uri": "https://localhost:8080/"
        },
        "id": "Z6suXy2IVlCS",
        "outputId": "deafd1d3-6162-4330-f315-9a494c545d58"
      },
      "execution_count": 49,
      "outputs": [
        {
          "output_type": "stream",
          "name": "stdout",
          "text": [
            "{2, 3}\n"
          ]
        }
      ]
    },
    {
      "cell_type": "markdown",
      "source": [
        "Buat program yang menampilkan gabungan dari dua set."
      ],
      "metadata": {
        "id": "4FCGVIGXVk3R"
      }
    },
    {
      "cell_type": "code",
      "source": [
        "print(set1.union(set2))"
      ],
      "metadata": {
        "colab": {
          "base_uri": "https://localhost:8080/"
        },
        "id": "FPfzu_nsVkr4",
        "outputId": "99a6fec9-20c6-4fa9-cd55-a4efa0c8eb87"
      },
      "execution_count": 50,
      "outputs": [
        {
          "output_type": "stream",
          "name": "stdout",
          "text": [
            "{1, 2, 3, 4}\n"
          ]
        }
      ]
    },
    {
      "cell_type": "markdown",
      "source": [
        "Buat program yang mengecek apakah satu set merupakan subset dari set lain."
      ],
      "metadata": {
        "id": "FAFEENDdVkhv"
      }
    },
    {
      "cell_type": "code",
      "source": [
        "print(set1.issubset(set2))"
      ],
      "metadata": {
        "colab": {
          "base_uri": "https://localhost:8080/"
        },
        "id": "SfQic5QfVkXd",
        "outputId": "b0436ac6-623b-4354-e38b-6166b97d7cff"
      },
      "execution_count": 51,
      "outputs": [
        {
          "output_type": "stream",
          "name": "stdout",
          "text": [
            "False\n"
          ]
        }
      ]
    },
    {
      "cell_type": "markdown",
      "source": [
        "Buat program yang menampilkan perbedaan dari dua set."
      ],
      "metadata": {
        "id": "gzkCiNZJVl3x"
      }
    },
    {
      "cell_type": "code",
      "source": [
        "print(set1.difference(set2))"
      ],
      "metadata": {
        "colab": {
          "base_uri": "https://localhost:8080/"
        },
        "id": "9Hg6WF4bVkC5",
        "outputId": "fd2bdb78-0d22-481f-85b4-88195808146e"
      },
      "execution_count": 52,
      "outputs": [
        {
          "output_type": "stream",
          "name": "stdout",
          "text": [
            "{1}\n"
          ]
        }
      ]
    },
    {
      "cell_type": "markdown",
      "source": [
        "Buat program untuk menghitung elemen unik dalam sebuah list menggunakan set."
      ],
      "metadata": {
        "id": "uzoBEycaViaa"
      }
    },
    {
      "cell_type": "code",
      "source": [
        "numbers = [1, 2, 2, 3, 4, 4, 4, 5]\n",
        "unique_numbers = set(numbers)\n",
        "print(len(unique_numbers))"
      ],
      "metadata": {
        "colab": {
          "base_uri": "https://localhost:8080/"
        },
        "id": "Ch7VYASHViQY",
        "outputId": "efd6faa9-65bb-4e12-f7ac-9e6392cb7caa"
      },
      "execution_count": 53,
      "outputs": [
        {
          "output_type": "stream",
          "name": "stdout",
          "text": [
            "5\n"
          ]
        }
      ]
    },
    {
      "cell_type": "markdown",
      "source": [
        "Buat program yang membuat dan menulis teks ke dalam file."
      ],
      "metadata": {
        "id": "crX4rAovViE_"
      }
    },
    {
      "cell_type": "code",
      "source": [
        "with open(\"example.txt\", \"w\") as file:\n",
        "    file.write(\"Hello, world!\")"
      ],
      "metadata": {
        "id": "OHHxrlqeVh6x"
      },
      "execution_count": 54,
      "outputs": []
    },
    {
      "cell_type": "markdown",
      "source": [
        "Buat program yang membaca isi dari file teks."
      ],
      "metadata": {
        "id": "nyhfcd32VhAu"
      }
    },
    {
      "cell_type": "code",
      "source": [
        "with open(\"example.txt\", \"r\") as file:\n",
        "    content = file.read()\n",
        "    print(content)"
      ],
      "metadata": {
        "colab": {
          "base_uri": "https://localhost:8080/"
        },
        "id": "0Ksy8QuDVgtL",
        "outputId": "8fb31304-489e-45b0-9ea6-9599bbbe72f6"
      },
      "execution_count": 55,
      "outputs": [
        {
          "output_type": "stream",
          "name": "stdout",
          "text": [
            "Hello, world!\n"
          ]
        }
      ]
    },
    {
      "cell_type": "markdown",
      "source": [
        "Buat program untuk menambahkan teks baru ke file yang sudah ada."
      ],
      "metadata": {
        "id": "DatQH1LpzKzz"
      }
    },
    {
      "cell_type": "code",
      "source": [
        "with open(\"example.txt\", \"a\") as file:\n",
        "    file.write(\"\\nNew line added.\")"
      ],
      "metadata": {
        "id": "lv8LUB1ZzJ22"
      },
      "execution_count": 56,
      "outputs": []
    },
    {
      "cell_type": "markdown",
      "source": [
        "Buat program yang menampilkan isi file baris per baris."
      ],
      "metadata": {
        "id": "Q9K-AOc_zJrj"
      }
    },
    {
      "cell_type": "code",
      "source": [
        "with open(\"example.txt\", \"r\") as file:\n",
        "    for line in file:\n",
        "        print(line, end=\"\")"
      ],
      "metadata": {
        "colab": {
          "base_uri": "https://localhost:8080/"
        },
        "id": "SEEhQ-TJzJep",
        "outputId": "045c8bd7-85ad-493a-a338-c6f58a71fa39"
      },
      "execution_count": 57,
      "outputs": [
        {
          "output_type": "stream",
          "name": "stdout",
          "text": [
            "Hello, world!\n",
            "New line added."
          ]
        }
      ]
    },
    {
      "cell_type": "markdown",
      "source": [
        "Buat program yang menghitung jumlah kata dalam sebuah file."
      ],
      "metadata": {
        "id": "BdKq0NTKzJQ0"
      }
    },
    {
      "cell_type": "code",
      "source": [
        "with open(\"example.txt\", \"r\") as file:\n",
        "    content = file.read()\n",
        "    word_count = len(content.split())\n",
        "    print(word_count)"
      ],
      "metadata": {
        "colab": {
          "base_uri": "https://localhost:8080/"
        },
        "id": "VR1HM-EuzJEE",
        "outputId": "be0b897a-32c2-4e24-df76-64f2375d2730"
      },
      "execution_count": 58,
      "outputs": [
        {
          "output_type": "stream",
          "name": "stdout",
          "text": [
            "5\n"
          ]
        }
      ]
    },
    {
      "cell_type": "markdown",
      "source": [
        "Buat program untuk menghapus file."
      ],
      "metadata": {
        "id": "zjWGMApFzI2-"
      }
    },
    {
      "cell_type": "code",
      "source": [
        "import os\n",
        "os.remove(\"example.txt\")"
      ],
      "metadata": {
        "id": "voq7BDvpzIi-"
      },
      "execution_count": 59,
      "outputs": []
    },
    {
      "cell_type": "markdown",
      "source": [
        "Buat program yang memeriksa apakah sebuah file ada atau tidak."
      ],
      "metadata": {
        "id": "6L70jJpPzIWL"
      }
    },
    {
      "cell_type": "code",
      "source": [
        "if os.path.exists(\"example.txt\"):\n",
        "    print(\"File exists\")\n",
        "else:\n",
        "    print(\"File does not exist\")"
      ],
      "metadata": {
        "colab": {
          "base_uri": "https://localhost:8080/"
        },
        "id": "LXhCS4qdzIJw",
        "outputId": "e501758e-9d65-40e5-e807-4d9ede4acc18"
      },
      "execution_count": 60,
      "outputs": [
        {
          "output_type": "stream",
          "name": "stdout",
          "text": [
            "File does not exist\n"
          ]
        }
      ]
    },
    {
      "cell_type": "markdown",
      "source": [
        "Buat program yang meng-copy isi file ke file lain."
      ],
      "metadata": {
        "id": "rODKOf8-zH9w"
      }
    },
    {
      "cell_type": "code",
      "source": [
        "with open(\"example.txt\", \"w\") as file:\n",
        "    file.write(\"Hello, world!\")\n",
        "\n",
        "with open(\"example.txt\", \"r\") as src:\n",
        "    with open(\"copy.txt\", \"w\") as dst:\n",
        "        dst.write(src.read())"
      ],
      "metadata": {
        "id": "e5_yFG-WzHyc"
      },
      "execution_count": 61,
      "outputs": []
    },
    {
      "cell_type": "markdown",
      "source": [
        "Buat program untuk membuat list dari angka 1 sampai 10 menggunakan list comprehension."
      ],
      "metadata": {
        "id": "Y1RjVZJ1zHlG"
      }
    },
    {
      "cell_type": "code",
      "source": [
        "numbers = [x for x in range(1, 11)]\n",
        "print(numbers)"
      ],
      "metadata": {
        "colab": {
          "base_uri": "https://localhost:8080/"
        },
        "id": "FL0ah4wEzHX_",
        "outputId": "32fef67d-a8a1-44a4-c551-83410fbf8647"
      },
      "execution_count": 62,
      "outputs": [
        {
          "output_type": "stream",
          "name": "stdout",
          "text": [
            "[1, 2, 3, 4, 5, 6, 7, 8, 9, 10]\n"
          ]
        }
      ]
    },
    {
      "cell_type": "markdown",
      "source": [
        "\n",
        "Buat program untuk membuat list bilangan genap dari 1 sampai 20."
      ],
      "metadata": {
        "id": "KjeDnJO8zHMX"
      }
    },
    {
      "cell_type": "code",
      "source": [
        "evens = [x for x in range(1, 21) if x % 2 == 0]\n",
        "print(evens)"
      ],
      "metadata": {
        "colab": {
          "base_uri": "https://localhost:8080/"
        },
        "id": "P4R2DteHzG_d",
        "outputId": "40c93a67-8326-4221-e220-01b94e6bda0f"
      },
      "execution_count": 63,
      "outputs": [
        {
          "output_type": "stream",
          "name": "stdout",
          "text": [
            "[2, 4, 6, 8, 10, 12, 14, 16, 18, 20]\n"
          ]
        }
      ]
    },
    {
      "cell_type": "markdown",
      "source": [
        "Buat program untuk membuat list bilangan kuadrat dari 1 sampai 10."
      ],
      "metadata": {
        "id": "o4YtKlhzzG03"
      }
    },
    {
      "cell_type": "code",
      "source": [
        "squares = [x**2 for x in range(1, 11)]\n",
        "print(squares)"
      ],
      "metadata": {
        "colab": {
          "base_uri": "https://localhost:8080/"
        },
        "id": "1rvdmE5uzGEN",
        "outputId": "cd33f169-1507-4abe-cef7-2ffa0c34eb86"
      },
      "execution_count": 64,
      "outputs": [
        {
          "output_type": "stream",
          "name": "stdout",
          "text": [
            "[1, 4, 9, 16, 25, 36, 49, 64, 81, 100]\n"
          ]
        }
      ]
    },
    {
      "cell_type": "markdown",
      "source": [
        "Buat program untuk mengubah setiap elemen dalam list menjadi huruf besar."
      ],
      "metadata": {
        "id": "Bp-7vNsczGff"
      }
    },
    {
      "cell_type": "code",
      "source": [
        "words = [\"hello\", \"world\"]\n",
        "upper_words = [word.upper() for word in words]\n",
        "print(upper_words)"
      ],
      "metadata": {
        "colab": {
          "base_uri": "https://localhost:8080/"
        },
        "id": "DmCUW52wzF4p",
        "outputId": "7f3c6205-f678-4728-c2c2-5f676a05b557"
      },
      "execution_count": 65,
      "outputs": [
        {
          "output_type": "stream",
          "name": "stdout",
          "text": [
            "['HELLO', 'WORLD']\n"
          ]
        }
      ]
    },
    {
      "cell_type": "markdown",
      "source": [
        "Buat program yang menyaring elemen dalam list jika lebih besar dari 5."
      ],
      "metadata": {
        "id": "CG3LWLVKzFrr"
      }
    },
    {
      "cell_type": "code",
      "source": [
        "numbers = [1, 2, 3, 6, 7, 8]\n",
        "filtered = [x for x in numbers if x > 5]\n",
        "print(filtered)"
      ],
      "metadata": {
        "colab": {
          "base_uri": "https://localhost:8080/"
        },
        "id": "Xnm987AWzFe6",
        "outputId": "b881be7b-b3b6-42b4-f350-85222faaa5e8"
      },
      "execution_count": 66,
      "outputs": [
        {
          "output_type": "stream",
          "name": "stdout",
          "text": [
            "[6, 7, 8]\n"
          ]
        }
      ]
    },
    {
      "cell_type": "markdown",
      "source": [
        "Buat program untuk membuat list huruf vokal dari string."
      ],
      "metadata": {
        "id": "K35r7TgPzFRs"
      }
    },
    {
      "cell_type": "code",
      "source": [
        "string = \"hello world\"\n",
        "vowels = [char for char in string if char in 'aeiou']\n",
        "print(vowels)"
      ],
      "metadata": {
        "colab": {
          "base_uri": "https://localhost:8080/"
        },
        "id": "RhQMwPWZzFEq",
        "outputId": "7b488ae0-157a-4c1f-a955-e6af671aee1f"
      },
      "execution_count": 67,
      "outputs": [
        {
          "output_type": "stream",
          "name": "stdout",
          "text": [
            "['e', 'o', 'o']\n"
          ]
        }
      ]
    },
    {
      "cell_type": "markdown",
      "source": [
        "Buat program yang menangkap kesalahan pembagian dengan nol."
      ],
      "metadata": {
        "id": "itJM88QAzE4l"
      }
    },
    {
      "cell_type": "code",
      "source": [
        "result = 10/0\n",
        "print(result)"
      ],
      "metadata": {
        "colab": {
          "base_uri": "https://localhost:8080/",
          "height": 159
        },
        "id": "WKtjT9z5zD2H",
        "outputId": "ca079b20-fbf9-41c2-afd3-8513710d1415"
      },
      "execution_count": 68,
      "outputs": [
        {
          "output_type": "error",
          "ename": "ZeroDivisionError",
          "evalue": "division by zero",
          "traceback": [
            "\u001b[0;31m---------------------------------------------------------------------------\u001b[0m",
            "\u001b[0;31mZeroDivisionError\u001b[0m                         Traceback (most recent call last)",
            "\u001b[0;32m<ipython-input-68-7f977f09f2a0>\u001b[0m in \u001b[0;36m<cell line: 1>\u001b[0;34m()\u001b[0m\n\u001b[0;32m----> 1\u001b[0;31m \u001b[0mresult\u001b[0m \u001b[0;34m=\u001b[0m \u001b[0;36m10\u001b[0m\u001b[0;34m/\u001b[0m\u001b[0;36m0\u001b[0m\u001b[0;34m\u001b[0m\u001b[0;34m\u001b[0m\u001b[0m\n\u001b[0m\u001b[1;32m      2\u001b[0m \u001b[0mprint\u001b[0m\u001b[0;34m(\u001b[0m\u001b[0mresult\u001b[0m\u001b[0;34m)\u001b[0m\u001b[0;34m\u001b[0m\u001b[0;34m\u001b[0m\u001b[0m\n",
            "\u001b[0;31mZeroDivisionError\u001b[0m: division by zero"
          ]
        }
      ]
    },
    {
      "cell_type": "code",
      "source": [
        "try:\n",
        "    result = 10 / 0\n",
        "except ZeroDivisionError:\n",
        "    print(\"Division by zero is not allowed\")"
      ],
      "metadata": {
        "colab": {
          "base_uri": "https://localhost:8080/"
        },
        "id": "2Mu9F1mX0TL2",
        "outputId": "fc859562-456a-4d47-a103-c954920512e4"
      },
      "execution_count": 69,
      "outputs": [
        {
          "output_type": "stream",
          "name": "stdout",
          "text": [
            "Division by zero is not allowed\n"
          ]
        }
      ]
    },
    {
      "cell_type": "markdown",
      "source": [
        "Buat program yang menangkap kesalahan input yang bukan angka."
      ],
      "metadata": {
        "id": "Zt-xevibzDpf"
      }
    },
    {
      "cell_type": "code",
      "source": [
        "angka = 'ini angka'\n",
        "print(int(angka))"
      ],
      "metadata": {
        "colab": {
          "base_uri": "https://localhost:8080/",
          "height": 159
        },
        "id": "PI8xFSqQzDdN",
        "outputId": "9f390dcc-280f-4bd4-a1b0-c35b9d1fa52f"
      },
      "execution_count": 70,
      "outputs": [
        {
          "output_type": "error",
          "ename": "ValueError",
          "evalue": "invalid literal for int() with base 10: 'ini angka'",
          "traceback": [
            "\u001b[0;31m---------------------------------------------------------------------------\u001b[0m",
            "\u001b[0;31mValueError\u001b[0m                                Traceback (most recent call last)",
            "\u001b[0;32m<ipython-input-70-b53fae516f87>\u001b[0m in \u001b[0;36m<cell line: 2>\u001b[0;34m()\u001b[0m\n\u001b[1;32m      1\u001b[0m \u001b[0mangka\u001b[0m \u001b[0;34m=\u001b[0m \u001b[0;34m'ini angka'\u001b[0m\u001b[0;34m\u001b[0m\u001b[0;34m\u001b[0m\u001b[0m\n\u001b[0;32m----> 2\u001b[0;31m \u001b[0mprint\u001b[0m\u001b[0;34m(\u001b[0m\u001b[0mint\u001b[0m\u001b[0;34m(\u001b[0m\u001b[0mangka\u001b[0m\u001b[0;34m)\u001b[0m\u001b[0;34m)\u001b[0m\u001b[0;34m\u001b[0m\u001b[0;34m\u001b[0m\u001b[0m\n\u001b[0m",
            "\u001b[0;31mValueError\u001b[0m: invalid literal for int() with base 10: 'ini angka'"
          ]
        }
      ]
    },
    {
      "cell_type": "code",
      "source": [
        "angka = 'ini angka'\n",
        "try:\n",
        "  angka = int(angka)\n",
        "except ValueError:\n",
        "  print(\"\")"
      ],
      "metadata": {
        "colab": {
          "base_uri": "https://localhost:8080/"
        },
        "id": "3pYnxWZv0ama",
        "outputId": "938591f1-ccb3-4e9e-b90a-f9e920f81a3f"
      },
      "execution_count": 71,
      "outputs": [
        {
          "output_type": "stream",
          "name": "stdout",
          "text": [
            "\n"
          ]
        }
      ]
    },
    {
      "cell_type": "code",
      "source": [
        "try:\n",
        "    number = int(input(\"Enter a number: \"))\n",
        "except ValueError:\n",
        "    print(\"Input is not a valid number\")"
      ],
      "metadata": {
        "colab": {
          "base_uri": "https://localhost:8080/"
        },
        "id": "QdmjKqzT0fdL",
        "outputId": "8bb98c34-83d0-4add-d04b-27e3972dd8a3"
      },
      "execution_count": 73,
      "outputs": [
        {
          "output_type": "stream",
          "name": "stdout",
          "text": [
            "Enter a number: a\n",
            "Input is not a valid number\n"
          ]
        }
      ]
    },
    {
      "cell_type": "markdown",
      "source": [
        "Buat program yang menangkap kesalahan akses elemen list di luar indeks."
      ],
      "metadata": {
        "id": "Y1QeMTqa0hsR"
      }
    },
    {
      "cell_type": "code",
      "source": [
        "my_list = [1, 2, 3]\n",
        "try:\n",
        "    print(my_list[5])\n",
        "except IndexError:\n",
        "    print(\"Index out of range\")"
      ],
      "metadata": {
        "colab": {
          "base_uri": "https://localhost:8080/"
        },
        "id": "TaomPffVzDH5",
        "outputId": "28e83ae1-b651-4ee4-df85-c4478ba08729"
      },
      "execution_count": 74,
      "outputs": [
        {
          "output_type": "stream",
          "name": "stdout",
          "text": [
            "Index out of range\n"
          ]
        }
      ]
    },
    {
      "cell_type": "markdown",
      "source": [
        "Buat program yang menangani beberapa tipe kesalahan dengan exception yang berbeda."
      ],
      "metadata": {
        "id": "M7xygtQPzC9d"
      }
    },
    {
      "cell_type": "code",
      "source": [
        "try:\n",
        "    result = 10 / int(input(\"Enter a number: \"))\n",
        "except ValueError:\n",
        "    print(\"Input is not a valid number\")\n",
        "except ZeroDivisionError:\n",
        "    print(\"Cannot divide by zero\")"
      ],
      "metadata": {
        "colab": {
          "base_uri": "https://localhost:8080/"
        },
        "id": "Ch_WWu0GzCxo",
        "outputId": "8a4cebd8-499c-4f43-e891-b5f856de91a9"
      },
      "execution_count": 75,
      "outputs": [
        {
          "output_type": "stream",
          "name": "stdout",
          "text": [
            "Enter a number: a\n",
            "Input is not a valid number\n"
          ]
        }
      ]
    },
    {
      "cell_type": "markdown",
      "source": [
        "Buat program yang menggunakan finally untuk menampilkan pesan setelah exception."
      ],
      "metadata": {
        "id": "lryYU8TLzCjv"
      }
    },
    {
      "cell_type": "code",
      "source": [
        "try:\n",
        "    result = 10 / 0\n",
        "except ZeroDivisionError:\n",
        "    print(\"Division by zero is not allowed\")\n",
        "finally:\n",
        "    print(\"This will execute regardless of an exception\")"
      ],
      "metadata": {
        "colab": {
          "base_uri": "https://localhost:8080/"
        },
        "id": "ZVALnNVTzCOy",
        "outputId": "ed143b5c-b273-4a21-fe27-b59638774ef3"
      },
      "execution_count": 76,
      "outputs": [
        {
          "output_type": "stream",
          "name": "stdout",
          "text": [
            "Division by zero is not allowed\n",
            "This will execute regardless of an exception\n"
          ]
        }
      ]
    },
    {
      "cell_type": "markdown",
      "source": [
        "Buat class Mahasiswa yang memiliki atribut nama dan umur."
      ],
      "metadata": {
        "id": "oO46usctzCCS"
      }
    },
    {
      "cell_type": "code",
      "source": [
        "from sklearn.linear_model import LinearRegression"
      ],
      "metadata": {
        "id": "VX7agKPXzB2Y"
      },
      "execution_count": 77,
      "outputs": []
    },
    {
      "cell_type": "code",
      "source": [
        "LinearRegression().fit()"
      ],
      "metadata": {
        "colab": {
          "base_uri": "https://localhost:8080/",
          "height": 263
        },
        "id": "chh5CFpc1BWw",
        "outputId": "f0e7df9a-0828-4764-ee19-c73c04c0b819"
      },
      "execution_count": 78,
      "outputs": [
        {
          "output_type": "error",
          "ename": "TypeError",
          "evalue": "LinearRegression.fit() missing 2 required positional arguments: 'X' and 'y'",
          "traceback": [
            "\u001b[0;31m---------------------------------------------------------------------------\u001b[0m",
            "\u001b[0;31mTypeError\u001b[0m                                 Traceback (most recent call last)",
            "\u001b[0;32m<ipython-input-78-0c6fdb41f2d4>\u001b[0m in \u001b[0;36m<cell line: 1>\u001b[0;34m()\u001b[0m\n\u001b[0;32m----> 1\u001b[0;31m \u001b[0mLinearRegression\u001b[0m\u001b[0;34m(\u001b[0m\u001b[0;34m)\u001b[0m\u001b[0;34m.\u001b[0m\u001b[0mfit\u001b[0m\u001b[0;34m(\u001b[0m\u001b[0;34m)\u001b[0m\u001b[0;34m\u001b[0m\u001b[0;34m\u001b[0m\u001b[0m\n\u001b[0m",
            "\u001b[0;32m/usr/local/lib/python3.10/dist-packages/sklearn/base.py\u001b[0m in \u001b[0;36mwrapper\u001b[0;34m(estimator, *args, **kwargs)\u001b[0m\n\u001b[1;32m   1471\u001b[0m                 )\n\u001b[1;32m   1472\u001b[0m             ):\n\u001b[0;32m-> 1473\u001b[0;31m                 \u001b[0;32mreturn\u001b[0m \u001b[0mfit_method\u001b[0m\u001b[0;34m(\u001b[0m\u001b[0mestimator\u001b[0m\u001b[0;34m,\u001b[0m \u001b[0;34m*\u001b[0m\u001b[0margs\u001b[0m\u001b[0;34m,\u001b[0m \u001b[0;34m**\u001b[0m\u001b[0mkwargs\u001b[0m\u001b[0;34m)\u001b[0m\u001b[0;34m\u001b[0m\u001b[0;34m\u001b[0m\u001b[0m\n\u001b[0m\u001b[1;32m   1474\u001b[0m \u001b[0;34m\u001b[0m\u001b[0m\n\u001b[1;32m   1475\u001b[0m         \u001b[0;32mreturn\u001b[0m \u001b[0mwrapper\u001b[0m\u001b[0;34m\u001b[0m\u001b[0;34m\u001b[0m\u001b[0m\n",
            "\u001b[0;31mTypeError\u001b[0m: LinearRegression.fit() missing 2 required positional arguments: 'X' and 'y'"
          ]
        }
      ]
    },
    {
      "cell_type": "code",
      "source": [
        "class Mahasiswa:\n",
        "    def __init__(self, nama, umur):\n",
        "        self.nama = nama\n",
        "        self.umur = umur"
      ],
      "metadata": {
        "id": "lF9j48LhzBfe"
      },
      "execution_count": 86,
      "outputs": []
    },
    {
      "cell_type": "markdown",
      "source": [
        "Buat method dalam class untuk menampilkan informasi mahasiswa."
      ],
      "metadata": {
        "id": "drGZJtu7zBKR"
      }
    },
    {
      "cell_type": "code",
      "source": [
        "class Mahasiswa:\n",
        "    def __init__(self, nama, umur, jenis_kelamin):\n",
        "        self.nama = nama\n",
        "        self.u = umur\n",
        "        self.jk = jenis_kelamin\n",
        "\n",
        "    def tampilkan_informasi(self):\n",
        "        print(f\"Nama: {self.nama}, Umur: {self.u}, Jenis Kelamin : {self.jk}\")"
      ],
      "metadata": {
        "id": "Qhhx2rzHzA-f"
      },
      "execution_count": 87,
      "outputs": []
    },
    {
      "cell_type": "code",
      "source": [
        "mhs = Mahasiswa('yanto', 98, 'Laki-laki')\n",
        "mhs.tampilkan_informasi() #memanggil fungsi untuk menampilkan informasi"
      ],
      "metadata": {
        "colab": {
          "base_uri": "https://localhost:8080/"
        },
        "id": "LGz85j9h4Jvp",
        "outputId": "3c25031c-7d2f-44b9-903b-c5e5859a46c8"
      },
      "execution_count": 88,
      "outputs": [
        {
          "output_type": "stream",
          "name": "stdout",
          "text": [
            "Nama: yanto, Umur: 98, Jenis Kelamin : Laki-laki\n"
          ]
        }
      ]
    },
    {
      "cell_type": "markdown",
      "source": [
        "Buat program untuk menginisialisasi objek dari class `Mahasiswa`."
      ],
      "metadata": {
        "id": "GQ62HJfHzAy3"
      }
    },
    {
      "cell_type": "code",
      "source": [
        "mahasiswa1 = Mahasiswa(\"Alice\", 20, 'Wanita')\n",
        "mahasiswa1.tampilkan_informasi()"
      ],
      "metadata": {
        "colab": {
          "base_uri": "https://localhost:8080/"
        },
        "id": "FrZNDIu9zAnh",
        "outputId": "2e727584-27d4-4687-c3d4-3200f20ae1fe"
      },
      "execution_count": 90,
      "outputs": [
        {
          "output_type": "stream",
          "name": "stdout",
          "text": [
            "Nama: Alice, Umur: 20, Jenis Kelamin : Wanita\n"
          ]
        }
      ]
    },
    {
      "cell_type": "markdown",
      "source": [
        "Buat program yang menggunakan constructor dalam class."
      ],
      "metadata": {
        "id": "TvXnZ5hkzAcV"
      }
    },
    {
      "cell_type": "code",
      "source": [
        "class Person:\n",
        "    def __init__(self, name):\n",
        "        self.name = name\n",
        "\n",
        "person = Person(\"John\")\n",
        "print(person.name)"
      ],
      "metadata": {
        "colab": {
          "base_uri": "https://localhost:8080/"
        },
        "id": "XSLB932tzAOE",
        "outputId": "a561d628-eb6e-44f0-f5db-673be57953b9"
      },
      "execution_count": 91,
      "outputs": [
        {
          "output_type": "stream",
          "name": "stdout",
          "text": [
            "John\n"
          ]
        }
      ]
    },
    {
      "cell_type": "markdown",
      "source": [
        "Buat program yang menggunakan inheritance untuk class `Person` dan `Mahasiswa`."
      ],
      "metadata": {
        "id": "RxYVOLOGy_3A"
      }
    },
    {
      "cell_type": "code",
      "source": [
        "class Person:\n",
        "    def __init__(self, name):\n",
        "        self.name = name\n",
        "\n",
        "class Mahasiswa(Person):\n",
        "    def __init__(self, name, umur):\n",
        "        super().__init__(name)\n",
        "        self.umur = umur\n",
        "\n",
        "mahasiswa = Mahasiswa(\"Alice\", 20)\n",
        "print(mahasiswa.name, mahasiswa.umur)"
      ],
      "metadata": {
        "colab": {
          "base_uri": "https://localhost:8080/"
        },
        "id": "dvY8mL_1y_hQ",
        "outputId": "f03d7023-bf79-402d-9d45-25af73462f6e"
      },
      "execution_count": 92,
      "outputs": [
        {
          "output_type": "stream",
          "name": "stdout",
          "text": [
            "Alice 20\n"
          ]
        }
      ]
    },
    {
      "cell_type": "markdown",
      "source": [
        "Buat program yang menggunakan method overriding dalam inheritance."
      ],
      "metadata": {
        "id": "FeiHNfCuy-Ag"
      }
    },
    {
      "cell_type": "code",
      "source": [
        "class Animal:\n",
        "    def speak(self):\n",
        "        print(\"Animal speaks\")\n",
        "\n",
        "class Dog(Animal):\n",
        "    def speak(self):\n",
        "        print(\"Dog barks\")\n",
        "\n",
        "dog = Dog()\n",
        "dog.speak()"
      ],
      "metadata": {
        "colab": {
          "base_uri": "https://localhost:8080/"
        },
        "id": "Yfu-B45Qy91Y",
        "outputId": "3c19763d-33c1-41bf-eef0-7aee50fed209"
      },
      "execution_count": 93,
      "outputs": [
        {
          "output_type": "stream",
          "name": "stdout",
          "text": [
            "Dog barks\n"
          ]
        }
      ]
    },
    {
      "cell_type": "markdown",
      "source": [
        "Buat program yang menampilkan jumlah objek yang dibuat dari sebuah class."
      ],
      "metadata": {
        "id": "Eg6ywYd8y9qe"
      }
    },
    {
      "cell_type": "code",
      "source": [
        "class Counter:\n",
        "    count = 0\n",
        "\n",
        "    def __init__(self):\n",
        "        Counter.count += 1\n",
        "\n",
        "obj1 = Counter()\n",
        "obj2 = Counter()\n",
        "print(Counter.count)"
      ],
      "metadata": {
        "colab": {
          "base_uri": "https://localhost:8080/"
        },
        "id": "28VUpOIWy9fA",
        "outputId": "f6681b61-6fb9-47fc-8a6c-b59a7d4f8995"
      },
      "execution_count": 94,
      "outputs": [
        {
          "output_type": "stream",
          "name": "stdout",
          "text": [
            "2\n"
          ]
        }
      ]
    },
    {
      "cell_type": "markdown",
      "source": [
        "Buat program yang membuat class dengan method statis."
      ],
      "metadata": {
        "id": "5YLZe9ksy9UR"
      }
    },
    {
      "cell_type": "code",
      "source": [
        "class MathUtils:\n",
        "    @staticmethod\n",
        "    def add(a, b):\n",
        "        return a + b\n",
        "\n",
        "print(MathUtils.add(5, 7))"
      ],
      "metadata": {
        "colab": {
          "base_uri": "https://localhost:8080/"
        },
        "id": "wRb38gFOy9Ip",
        "outputId": "aa3c92b8-0140-425a-e9c7-ead6c116a721"
      },
      "execution_count": 95,
      "outputs": [
        {
          "output_type": "stream",
          "name": "stdout",
          "text": [
            "12\n"
          ]
        }
      ]
    },
    {
      "cell_type": "markdown",
      "source": [
        "Buat program yang meng-import modul matematika dan menggunakan fungsi `sqrt`."
      ],
      "metadata": {
        "id": "7qFuCzv9y8-Z"
      }
    },
    {
      "cell_type": "code",
      "source": [
        "import math\n",
        "print(math.sqrt(16))"
      ],
      "metadata": {
        "colab": {
          "base_uri": "https://localhost:8080/"
        },
        "id": "v_Xmkv33y8yv",
        "outputId": "79a317a8-0d3a-41a8-decc-c966662f64bc"
      },
      "execution_count": 96,
      "outputs": [
        {
          "output_type": "stream",
          "name": "stdout",
          "text": [
            "4.0\n"
          ]
        }
      ]
    },
    {
      "cell_type": "markdown",
      "source": [
        "Buat modul sendiri untuk menghitung luas dan keliling persegi."
      ],
      "metadata": {
        "id": "EbgD2dxX3EFD"
      }
    },
    {
      "cell_type": "code",
      "source": [
        "# square.py\n",
        "def area(side):\n",
        "    return side * side\n",
        "\n",
        "def perimeter(side):\n",
        "    return 4 * side"
      ],
      "metadata": {
        "id": "laCfJqaI3Gqg"
      },
      "execution_count": 97,
      "outputs": []
    },
    {
      "cell_type": "code",
      "source": [
        "# cuboid.py\n",
        "def volume(length, width, height):\n",
        "    return length * width * height"
      ],
      "metadata": {
        "id": "m9SHf_a43H1m"
      },
      "execution_count": 98,
      "outputs": []
    },
    {
      "cell_type": "code",
      "source": [
        "# sphere.py\n",
        "import math\n",
        "def volume(radius):\n",
        "    return (4/3) * math.pi * radius**3"
      ],
      "metadata": {
        "id": "B6TYRg4N3JlJ"
      },
      "execution_count": 99,
      "outputs": []
    },
    {
      "cell_type": "markdown",
      "source": [
        "Buat package untuk menghitung volume berbagai bangun ruang."
      ],
      "metadata": {
        "id": "JkySPFD64kQK"
      }
    },
    {
      "cell_type": "code",
      "source": [
        "import math\n",
        "def volume(radius):\n",
        "    return (4/3) * math.pi * radius**3"
      ],
      "metadata": {
        "id": "TWLZjkgZ3PqE"
      },
      "execution_count": 101,
      "outputs": []
    },
    {
      "cell_type": "markdown",
      "source": [
        "Buat program yang meng-import modul random dan menghasilkan angka acak."
      ],
      "metadata": {
        "id": "K6GQ5prx3R5R"
      }
    },
    {
      "cell_type": "code",
      "source": [
        "import random\n",
        "print(random.randint(1, 100))"
      ],
      "metadata": {
        "colab": {
          "base_uri": "https://localhost:8080/"
        },
        "id": "cFWSehah3Qqk",
        "outputId": "b673a3be-9309-47f3-901c-b1efd674d241"
      },
      "execution_count": 102,
      "outputs": [
        {
          "output_type": "stream",
          "name": "stdout",
          "text": [
            "79\n"
          ]
        }
      ]
    },
    {
      "cell_type": "markdown",
      "source": [
        "Buat program yang menggunakan fungsi waktu untuk menghitung lama eksekusi program."
      ],
      "metadata": {
        "id": "8OS1Vx8S2_lG"
      }
    },
    {
      "cell_type": "code",
      "source": [
        "import time\n",
        "start_time = time.time()\n",
        "\n",
        "time.sleep(1)\n",
        "end_time = time.time()\n",
        "print(\"Execution time:\", end_time - start_time, \"seconds\")"
      ],
      "metadata": {
        "colab": {
          "base_uri": "https://localhost:8080/"
        },
        "id": "Tn7AMIH72-fz",
        "outputId": "6b788bc5-7bd8-42f3-af8b-8bf9ff583c44"
      },
      "execution_count": 103,
      "outputs": [
        {
          "output_type": "stream",
          "name": "stdout",
          "text": [
            "Execution time: 1.0008575916290283 seconds\n"
          ]
        }
      ]
    },
    {
      "cell_type": "markdown",
      "source": [
        "Buat fungsi lambda untuk menghitung kuadrat dari sebuah angka."
      ],
      "metadata": {
        "id": "g6D9EKiky8oq"
      }
    },
    {
      "cell_type": "code",
      "source": [
        "square = lambda x: x * x\n",
        "print(square(5))"
      ],
      "metadata": {
        "colab": {
          "base_uri": "https://localhost:8080/"
        },
        "id": "0RIK62vYy8cp",
        "outputId": "9ec14e25-177f-4d83-ba5e-eeccb0b2f294"
      },
      "execution_count": 104,
      "outputs": [
        {
          "output_type": "stream",
          "name": "stdout",
          "text": [
            "25\n"
          ]
        }
      ]
    },
    {
      "cell_type": "markdown",
      "source": [
        "Buat program yang menggunakan `map` untuk menghitung kuadrat dari semua elemen dalam list."
      ],
      "metadata": {
        "id": "pQJDKuu6y8Rb"
      }
    },
    {
      "cell_type": "code",
      "source": [
        "numbers = [1, 2, 3, 4, 5]\n",
        "squares = list(map(lambda x: x * x, numbers))\n",
        "print(squares)"
      ],
      "metadata": {
        "colab": {
          "base_uri": "https://localhost:8080/"
        },
        "id": "JPna5i1By8FV",
        "outputId": "5cd0ae46-4675-471a-c753-827aa2de5048"
      },
      "execution_count": 105,
      "outputs": [
        {
          "output_type": "stream",
          "name": "stdout",
          "text": [
            "[1, 4, 9, 16, 25]\n"
          ]
        }
      ]
    },
    {
      "cell_type": "markdown",
      "source": [
        "Buat program yang menggunakan `filter` untuk menyaring bilangan ganjil dari list."
      ],
      "metadata": {
        "id": "GVslzBbXy76i"
      }
    },
    {
      "cell_type": "code",
      "source": [
        "numbers = [1, 2, 3, 4, 5, 6]\n",
        "odds = list(filter(lambda x: x % 2 != 0, numbers))\n",
        "print(odds)"
      ],
      "metadata": {
        "colab": {
          "base_uri": "https://localhost:8080/"
        },
        "id": "Vx3CkAsYy7vP",
        "outputId": "fffd3308-f9ba-4453-a4e3-5c5f9705a5f4"
      },
      "execution_count": 106,
      "outputs": [
        {
          "output_type": "stream",
          "name": "stdout",
          "text": [
            "[1, 3, 5]\n"
          ]
        }
      ]
    },
    {
      "cell_type": "markdown",
      "source": [
        "Buat program yang menggunakan `reduce` untuk menghitung jumlah semua elemen dalam list."
      ],
      "metadata": {
        "id": "RVSA1QTLy7ih"
      }
    },
    {
      "cell_type": "code",
      "source": [
        "from functools import reduce\n",
        "numbers = [1, 2, 3, 4, 5]\n",
        "total = reduce(lambda x, y: x + y, numbers)\n",
        "print(total)"
      ],
      "metadata": {
        "colab": {
          "base_uri": "https://localhost:8080/"
        },
        "id": "1qM0DNhsy7X3",
        "outputId": "04071b49-0973-4ad4-d6d7-96d7c188473c"
      },
      "execution_count": 107,
      "outputs": [
        {
          "output_type": "stream",
          "name": "stdout",
          "text": [
            "15\n"
          ]
        }
      ]
    },
    {
      "cell_type": "markdown",
      "source": [
        "Buat program untuk menghitung jumlah huruf vokal dalam sebuah string."
      ],
      "metadata": {
        "id": "IWT3M7y1y7L2"
      }
    },
    {
      "cell_type": "code",
      "source": [
        "string = \"hello world\"\n",
        "vowels = \"aeiou\"\n",
        "count = sum(1 for char in string if char in vowels)\n",
        "print(count)"
      ],
      "metadata": {
        "colab": {
          "base_uri": "https://localhost:8080/"
        },
        "id": "Q140beG0y7As",
        "outputId": "f740d290-9d98-4214-97af-23dd02ed7ed6"
      },
      "execution_count": 108,
      "outputs": [
        {
          "output_type": "stream",
          "name": "stdout",
          "text": [
            "3\n"
          ]
        }
      ]
    },
    {
      "cell_type": "markdown",
      "source": [
        "Buat program untuk memeriksa apakah string adalah palindrom."
      ],
      "metadata": {
        "id": "BYh0ZzrJy618"
      }
    },
    {
      "cell_type": "code",
      "source": [
        "def is_palindrome(s):\n",
        "    return s == s[::-1]\n",
        "\n",
        "print(is_palindrome(\"madam\"))"
      ],
      "metadata": {
        "colab": {
          "base_uri": "https://localhost:8080/"
        },
        "id": "q1TcSJkIy6qM",
        "outputId": "a467653e-6da6-416e-f915-00d65347a2a3"
      },
      "execution_count": 109,
      "outputs": [
        {
          "output_type": "stream",
          "name": "stdout",
          "text": [
            "True\n"
          ]
        }
      ]
    },
    {
      "cell_type": "markdown",
      "source": [
        "Buat program yang menggunakan nested loop untuk menampilkan pola bintang."
      ],
      "metadata": {
        "id": "3BGSyW7Ky6fp"
      }
    },
    {
      "cell_type": "code",
      "source": [
        "for i in range(5):\n",
        "    for j in range(i + 1):\n",
        "        print(\"*\", end=\"\")\n",
        "    print()"
      ],
      "metadata": {
        "colab": {
          "base_uri": "https://localhost:8080/"
        },
        "id": "13JUtdYdy5k-",
        "outputId": "13a9784d-4c3c-4f4c-89f0-5814b7db9988"
      },
      "execution_count": 110,
      "outputs": [
        {
          "output_type": "stream",
          "name": "stdout",
          "text": [
            "*\n",
            "**\n",
            "***\n",
            "****\n",
            "*****\n"
          ]
        }
      ]
    },
    {
      "cell_type": "markdown",
      "source": [
        "Buat program untuk menghitung faktorial menggunakan iterasi."
      ],
      "metadata": {
        "id": "BjsUEgNKy5aD"
      }
    },
    {
      "cell_type": "code",
      "source": [
        "def factorial(n):\n",
        "    result = 1\n",
        "    for i in range(1, n + 1):\n",
        "        result *= i\n",
        "    return result\n",
        "\n",
        "print(factorial(5))"
      ],
      "metadata": {
        "colab": {
          "base_uri": "https://localhost:8080/"
        },
        "id": "KaLeC-3py6Hc",
        "outputId": "b26007c5-ea1e-4389-db23-03b233b41867"
      },
      "execution_count": 111,
      "outputs": [
        {
          "output_type": "stream",
          "name": "stdout",
          "text": [
            "120\n"
          ]
        }
      ]
    },
    {
      "cell_type": "markdown",
      "source": [
        "Buat program yang meminta input nama dan umur lalu menampilkannya dengan format tertentu."
      ],
      "metadata": {
        "id": "I46h0WbUy5GZ"
      }
    },
    {
      "cell_type": "code",
      "source": [
        "name = input(\"Enter your name: \")\n",
        "age = int(input(\"Enter your age: \"))\n",
        "print(f\"Name: {name}, Age: {age}\")"
      ],
      "metadata": {
        "colab": {
          "base_uri": "https://localhost:8080/"
        },
        "id": "rtJnQg3zy474",
        "outputId": "195c05c2-049c-41be-d809-7c7b84068e67"
      },
      "execution_count": 112,
      "outputs": [
        {
          "output_type": "stream",
          "name": "stdout",
          "text": [
            "Enter your name: Dill\n",
            "Enter your age: 19\n",
            "Name: Dill, Age: 19\n"
          ]
        }
      ]
    },
    {
      "cell_type": "markdown",
      "source": [
        "Buat program yang membalik urutan elemen dalam list tanpa menggunakan fungsi built-in."
      ],
      "metadata": {
        "id": "Mgsn65iSy4wd"
      }
    },
    {
      "cell_type": "code",
      "source": [
        "my_list = [1, 2, 3, 4, 5]\n",
        "reversed_list = my_list[::-1]\n",
        "print(reversed_list)"
      ],
      "metadata": {
        "colab": {
          "base_uri": "https://localhost:8080/"
        },
        "id": "hc0VWBjny4i7",
        "outputId": "758c9a68-e4bb-491f-a328-19c7ca2954ee"
      },
      "execution_count": 113,
      "outputs": [
        {
          "output_type": "stream",
          "name": "stdout",
          "text": [
            "[5, 4, 3, 2, 1]\n"
          ]
        }
      ]
    },
    {
      "cell_type": "markdown",
      "source": [
        "Buat program yang menampilkan hari saat ini menggunakan modul datetime."
      ],
      "metadata": {
        "id": "Hjv77cg_y4Ww"
      }
    },
    {
      "cell_type": "code",
      "source": [
        "import datetime\n",
        "today = datetime.datetime.now()\n",
        "print(today.strftime(\"%A\"))"
      ],
      "metadata": {
        "colab": {
          "base_uri": "https://localhost:8080/"
        },
        "id": "NB6GZcaJy4Fz",
        "outputId": "c6f93f9b-0b0e-46b1-8c65-8f1c7f76c45d"
      },
      "execution_count": 114,
      "outputs": [
        {
          "output_type": "stream",
          "name": "stdout",
          "text": [
            "Tuesday\n"
          ]
        }
      ]
    },
    {
      "cell_type": "markdown",
      "source": [
        "Buat program yang menerima dua angka dari input, lalu menampilkan hasil pembagiannya"
      ],
      "metadata": {
        "id": "1fXc8mHhy33K"
      }
    },
    {
      "cell_type": "code",
      "source": [
        "num1 = float(input(\"Enter first number: \"))\n",
        "num2 = float(input(\"Enter second number: \"))\n",
        "\n",
        "if num2 != 0:\n",
        "    print(num1 / num2)\n",
        "else:\n",
        "    print(\"Cannot divide by zero\")"
      ],
      "metadata": {
        "colab": {
          "base_uri": "https://localhost:8080/"
        },
        "id": "msAre3ci1LJn",
        "outputId": "c5ebc156-5509-4ff1-cdd5-c3a70fdbdf89"
      },
      "execution_count": 115,
      "outputs": [
        {
          "output_type": "stream",
          "name": "stdout",
          "text": [
            "Enter first number: 24\n",
            "Enter second number: 6\n",
            "4.0\n"
          ]
        }
      ]
    }
  ]
}